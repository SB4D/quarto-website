{
 "cells": [
  {
   "cell_type": "raw",
   "id": "389f45eb",
   "metadata": {
    "vscode": {
     "languageId": "raw"
    }
   },
   "source": [
    "---\n",
    "title: \"Audio Signal Processing in Python: Panning and Stereo Width\"\n",
    "author: \"Stefan Behrens\"\n",
    "date: \"10/06/2025\"\n",
    "categories:\n",
    "  - Math\n",
    "  - DSP\n",
    "  - Python\n",
    "  - TDD\n",
    "  - Annoying Precision\n",
    "description: >\n",
    "  In this post I'll go into the math of panning mono audio signals and stereo width adjustment. \n",
    "  Then I'll demonstrate test driven development by implementing the mathematical aspects in Python. \n",
    "  This is also the first part of a series of posts which I like to call *\"Annoying Precision\"* where \n",
    "  I will go into abstract mathematical underpinnings of common techniques used in applied fields \n",
    "  such as digital signal processing or deep learning.\n",
    "---"
   ]
  },
  {
   "cell_type": "markdown",
   "id": "616a4b00",
   "metadata": {},
   "source": [
    "## Tools and Conventions\n",
    "\n",
    "Before I get started, I'll mention my go to libraries and conventions for working with audio in Python.\n",
    "\n",
    "**Libraries:**\n",
    "\n",
    "* As most people, I use [NumPy](https://numpy.org/) and [SciPy](https://scipy.org/) for low-level processing and analysis.\n",
    "* I like to use [librosa](https://librosa.org/) for reading audio and high-level analysis. \n",
    "* I've been using [`sounddevice`](https://python-sounddevice.readthedocs.io/) for playback.\n",
    "\n",
    "**Data Conventions:**\n",
    "\n",
    "* **Mono** audio is modeled by 1d NumPy Arrays.\n",
    "* **Stereo** (or multi-channel) audio is modeled by 2d NumPy arrays of shape `(num_channels, num_samples)`.\n",
    "* In both cases, the sample values are **32-bit floating point** numbers **between -1 and 1**.\n",
    "\n",
    "I've adopted these conventions from librosa.\n",
    "\n",
    "***Caution:** Other audio library might deviates from these conventions. For example, `sounddevice` requires the multi-channel arrays to have shape `(num_samples, num_channels)`. This necessitates an occasional transposition.*"
   ]
  },
  {
   "cell_type": "markdown",
   "id": "21a0e98d",
   "metadata": {},
   "source": [
    "## The Math of Panning and Stereo Width\n",
    "\n",
    "Before going into code, I like to be clear about the math that runs the show. Let's start with a sampled audio signal in mono. There are at least three common ways to model this mathematically:\n",
    "\n",
    "* A finite sequence of real numbers $x_0, x_1, \\dots, x_{N-1}\\in\\R$ of length $N\\ge0$.\n",
    "* A vector $x = (x_0,x_1,\\dots,x_{N-1})\\in\\R^N$ \n",
    "* A function $x\\colon \\Z\\to\\R$ with values $x[n] = x_n$ for $0\\le n <N$ and $x[n]=0$ otherwise.\n",
    "\n",
    "I prefer the last option, because in my mind a signal is a function of time - in this case modeled by the integers $\\Z$ - and the notation $x[n]$ for the sample values is the same in Python code. This also frees up the subscript notation and allows me to write stereo signals as tuples $x = (x_L, x_R)$ of functions $x_L, x_R\\colon \\Z\\to\\R$, each of which can be viewed as a mono signal.\n",
    "\n",
    "In my mathematically wired brain, I also like to think of operations that transform a given signal into another one (e.g. filtering, panning, etc.) as a map between sets of signals. \n",
    "I'll use the notation $\\mathcal S_1$ and $\\mathcal S_2$ for the sets of mono and stereo signals, respectively. Here's a formal definition:\n",
    "$$\\begin{align*}\n",
    "\\mathcal{S}_1 &= \\{x\\colon \\Z\\to\\R \\mid \\text{$x[n] = 0$ for $n<0$ and $n\\gg 0$} \\} \\\\\n",
    "\\mathcal{S}_2 &= \\{x = (x_L,x_R) \\mid x_L, x_R\\in\\mathcal{S_1} \\}.\n",
    "\\end{align*}$$\n",
    "Just to give an example of an operation, the process of extracting only the left channel from a stereo signal is formally given by the map\n",
    "$$ T\\colon \\mathcal S_2 \\to \\mathcal S_1,\\quad x = (x_L, x_R) \\mapsto x_L = T(x). $$\n"
   ]
  },
  {
   "cell_type": "markdown",
   "id": "47556a5c",
   "metadata": {},
   "source": [
    "### Equal Power Panning of Mono Signals\n",
    "\n",
    "Say I have a mono signal $x_0$ and I want to play it back on my stereo system. How can I do that? There are at three obvious ways:\n",
    "\n",
    "* **Hard Left Panning:** I could only use the left speaker and play back the stereo signal (x_0, 0)$.\n",
    "* **Hard Right Panning:** I could only use the right speaker and play back the stereo signal $(0, x_0)$.\n",
    "* **Naive Center Panning:** I could use both speaker to play back the stereo signal $(x_0, x_0)$.\n",
    "\n",
    "Unfortunately, neither of them is perfect. Obviously, the stereo system is designed to have equal amounts of sound coming out of both speaker, which is just not happening for the hard panned signals. On the plus side, the hard panned signals have the advantage that they are guaranteed to be played back at the correct loudness, as they are equivalent to playing back the mono signal $x_0$ on a mono system. In contrast, the naive center panning turns out to be a little too loud.\n",
    "\n",
    "This is actually a somewhat subtle point, since the **perceived loudness** depends on many unknown factors (e.g. speaker placement, room acoustics, listener position, etc) and the dependence is a lot more complicated for stereo systems due to interferences between the left and right speakers. As it turns out, the perceived loudness of a signal is proportional to the signal's power, which is, in turn, **proportional to the point-wise square norm of the signal**. This goes for mono *and* stereo signals under a **diffuse sound field** assumption which is reasonably well justified for realistic stereo playback scenarios.\n",
    "\n",
    "Coming back to the three obvious panning options for the mono signal $x_0$, we find that the signal power is proportional to\n",
    "$$ \\|(x_0, 0)\\|^2 = \\|(0, x_0)\\|^2 = x_0^2 \\quad\\text{while}\\quad \\|(x_0, x_0)\\|^2 = x_0^2+x_0^2 = 2 x_0^2. $$\n",
    "On the one hand, this quantifies how much too loud the naive center panning is.\n",
    "On the other hand, it suggests a way out of this problem:\n",
    "\n",
    "* The **(equal power) center panning** of a mono signal $x_0$ is the stereo signal $(x_0/\\sqrt2, x_0/\\sqrt2)$.\n",
    "\n",
    "As a side note, multiplication with $1/\\sqrt2 = 0.707\\dots$ corresponds to a decrease in level by roughly 3 dB, and the equal power condition is sometimes also called the [3 dB panning law](https://en.wikipedia.org/wiki/Panning_law). Another fun fact is the observation that $1/\\sqrt2 = \\cos(\\pi/4) = \\sin(\\pi/4)$, which can be seen geometrically by viewing the line from the origin in $\\R^2$ to the unit circle at a 45° angle as the diagonal in a square whose side length are given by the sine and cosine values at $\\pi/4$.\n",
    "\n",
    "The geometry also helps to find more ways to distribute the mono signal $x_0$ between the left and right channels of a stereo system:\n",
    "\n",
    "* An **equal power panning** of a mono signal $x_0$ has the form $(\\lambda x_0, \\rho x_0)$ with $\\lambda,\\rho\\ge0$ satisfying $\\lambda^2 + \\rho^2 = 1$.\n",
    "\n",
    "Geometrically, the pairs $(\\lambda, \\rho)$ above are precisely the points on the unit circle in the first quadrant of $\\R^2$. Hence, for each such pair $(\\lambda, \\rho)$ there is exactly one angle $\\alpha\\in [0,\\pi/2]$ such that\n",
    "$$ \\lambda = \\cos(\\alpha) \\quad\\text{and}\\quad \\rho = \\sin(\\alpha). $$\n",
    "For $\\alpha = 0 $ and $\\alpha = \\pi/2$ this gives back the hard left and right pannings, and the above detour about $1/\\sqrt2$ shows that the center panning arises for $\\alpha = \\pi/4$.\n",
    "\n",
    "The equal power pannings can be parameterized by an interval and continuously interpolate between the hard left and right pannings. In practice, it is more convenient to re-parameterize the interval $[0,\\pi/2]$ to the unit interval $[-1,1]$ using the affine rescaling function\n",
    "$$ [-1,1] \\to [0,\\pi/2],\\quad p \\mapsto \\frac\\pi4 (p + 1) =: \\alpha_p. $$\n",
    "In terms of the **position parameter** $p$, the hard left, center, and hard right pannings correspond to $p=-1$, $p=0$, and $p=1$, respectively. \n",
    "\n",
    "In summary, the the family of equal power pannings of $x_0$ can be written as follows:\n",
    "$$ P_p\\colon \\mathcal S_1 \\to\\mathcal S_2, \\quad \n",
    "P_p(x_0) = x_0\\cdot \\big( \\cos(\\alpha_p), \\sin(\\alpha_p) \\big),\n",
    "\\quad p \\in[-1,1]. $$\n",
    "\n",
    "<!-- Lastly, there is yet another way to look at this. For $p\\in[-1,1]$ consider the matrix\n",
    "$$ R_p = \\begin{pmatrix} \\cos(p\\pi/4) & -\\sin(p\\pi/4) \\\\ \\sin(p\\pi/4) & \\cos(p\\pi/4) \\end{pmatrix}. $$\n",
    "Multiplication by $R_p$ represents a counterclockwise rotation in $\\R^2$ by the angel $p\\pi/4$. Writing $x_{cen} = (x_0/\\sqrt2, x_0/\\sqrt2)$ for the center panning, all other equal power pannings are obtained by $R_px_{cen}$. -->\n"
   ]
  },
  {
   "cell_type": "markdown",
   "id": "825a521b",
   "metadata": {},
   "source": [
    "### Adjusting Stereo Width\n",
    "\n",
    "Now let $x=(x_L,x_R)$ be a stereo signal. Mathematically, the mono signals $x_L$ and $x_R$ in the left and right channels are the point-wise coordinates with respect to the canonical basis of $\\R^2$ given by $e_L=(1,0)$ and $e_R=(0,1)$. This happens to be an orthonormal basis. \n",
    "Another orthonormal basis is given by $e_M=\\frac1{\\sqrt2}(1, 1)$ and $e_S=\\frac1{\\sqrt2}(-1, 1)$, and the corresponding coordinates of $x$ are the **mid channel** $x_M$ and the **side channels** $x_S$ given by\n",
    "$$x_M = \\frac{x_L + x_R}{\\sqrt 2} \\quad\\text{and}\\quad x_S = \\frac{x_L - x_R}{\\sqrt 2}.$$\n",
    "Formally, we can write the entire stereo signal as\n",
    "\\begin{align*}\n",
    "x %&= x_L\\cdot e_L + x_R\\cdot e_R = (x_L, 0) + (0, x_R) \\\\\n",
    "&= x_M\\cdot e_M + x_S\\cdot e_S = \\underbrace{\\tfrac12(x_L+x_R,x_L+x_R)}_{\\text{mid signal}} + \\underbrace{\\tfrac12(x_L-x_R,x_R-x_L)}_{\\text{side signal}}\n",
    "\\end{align*}\n",
    "The **mid signal** is nothing but the center panning of the mid channel $x_M$, which is also called the **mixdown** of the stereo signal. The **side signal** is the part that make the signal truly stereo. \n",
    "\n",
    "As far as I can tell, the concept of \"stereo width\" used in most digital audio workstatsions (DAWs) is largely based on the level of the side signal. More precisely, the stereo width adjustment appears to be modeled by introducing **width parameter** $w\\in[0,1]$ used to linearly scale the side signal:\n",
    "$$ W_w(x) = x_M\\cdot e_M + w\\cdot (x_S\\cdot e_S),\\quad w\\in[0,1]. $$\n",
    "For $w=1$ this recovers the original signal, while for $w=0$ only the mid signal is returned:\n",
    "$$ W_1(x) = x_M\\cdot e_M + x_S\\cdot e_S = x,\\quad \n",
    " W_0(x) = x_M\\cdot e_M. $$\n",
    "As the width parameter decreases from 1 to 0, the signal sounds narrower and narrower until it becomes a center panned mono signal.\n",
    "Typically, the perceived loudness decreases along with the width.\n",
    "Indeed, the power decreases:\n",
    "$$ \\|W_w(x)\\|^2 = x_M^2 + w^2x_S^2 \\le x_M^2 + x_S^2 = \\|x\\|^2 $$\n",
    "Equality holds if and only $x_S=0$, meaning that $x$ was a center panned mono signal.."
   ]
  },
  {
   "cell_type": "markdown",
   "id": "7671ee77",
   "metadata": {},
   "source": [
    "## A Python Implementation"
   ]
  },
  {
   "cell_type": "markdown",
   "id": "23a56034",
   "metadata": {},
   "source": [
    "I'll begin by loading the libraries and defining some constants that popped up in the mathematical discussion."
   ]
  },
  {
   "cell_type": "code",
   "execution_count": 101,
   "id": "b86f040a",
   "metadata": {},
   "outputs": [],
   "source": [
    "import numpy as np \n",
    "\n",
    "# sample rate\n",
    "SR = 44100\n",
    "# some pre-computed constants\n",
    "PI = np.pi\n",
    "SQRT12 = np.sqrt(0.5)"
   ]
  },
  {
   "cell_type": "markdown",
   "id": "9d9597a8",
   "metadata": {},
   "source": [
    "For reasons that I won't get into here, I want to define the panning and stereo width adjustment within a class `StereoControl`. Here's a template:"
   ]
  },
  {
   "cell_type": "code",
   "execution_count": 102,
   "id": "aead3988",
   "metadata": {},
   "outputs": [],
   "source": [
    "class StereoControl:\n",
    "    \"\"\"Provides various audio effects related to the stereo field.\"\"\"\n",
    "\n",
    "    def __init__(self, position=0, width=1):\n",
    "        self.position = position \n",
    "        self.width = width \n",
    "    \n",
    "    def mono_pan(self, mono_audio:np.ndarray) -> np.ndarray:\n",
    "        \"\"\"Pans a mono signal according to the position attribute\"\"\"\n",
    "        raise NotImplementedError(\"mono_pan is missing\")\n",
    "    \n",
    "    def adjust_width(self, stereo_audio:np.ndarray) -> np.ndarray:\n",
    "        \"\"\"Adjusts the width of a stereo signal according to the \n",
    "        width attribute\"\"\"\n",
    "        raise NotImplementedError()"
   ]
  },
  {
   "cell_type": "markdown",
   "id": "15a24802",
   "metadata": {},
   "source": [
    "While working on the code, I'll try out of few things that I've learned:\n",
    "\n",
    "* First, I'll taks a **test driven approach** and begin by translating the insights and requirements from the mathematical discussion into test cases. \n",
    "* Second, to run the test cases without nasty error messages in this notebook, I'll use a **decorator** for **error handling**. \n",
    "\n",
    "Here's the decorator which just print a short message when a `NotImplementedError`:"
   ]
  },
  {
   "cell_type": "code",
   "execution_count": 103,
   "id": "9d2c7a34",
   "metadata": {},
   "outputs": [],
   "source": [
    "def handle_errors(func):\n",
    "    def wrapper(*args, **kwargs):\n",
    "        try:\n",
    "            func(*args,**kwargs)\n",
    "        except AssertionError as e:\n",
    "            print(\"❌ AssertionError:\")\n",
    "            print(\"-\"*80)\n",
    "            print(e)\n",
    "        except NotImplementedError:\n",
    "            print(\"❌ Something is missing!\")\n",
    "        else:\n",
    "            print(\"✅ All tests passed!\")\n",
    "    return wrapper"
   ]
  },
  {
   "cell_type": "markdown",
   "id": "3c02b98c",
   "metadata": {},
   "source": [
    "### Equal Power Panning\n",
    "\n",
    "The upshot of the mathematical discussion is that the equal power pannings with position parameter $p\\in[1,1]$ interpolate between the hard left and right pannings of a mono signal according to the formula $P_p(x_0) = (\\lambda x_0, \\rho x_0)$ where $\\lambda,\\rho\\ge0$ are determined from $p$ and satisfy $\\lambda^2 + \\rho^2=1$. For $p=0$ we find $\\lambda = \\rho = 1 /\\sqrt2$. These conditions are easily translated into code for test cases. I'll use NumPy's internal testing features from the `np.testing` module."
   ]
  },
  {
   "cell_type": "code",
   "execution_count": 104,
   "id": "9a4c165a",
   "metadata": {},
   "outputs": [
    {
     "name": "stdout",
     "output_type": "stream",
     "text": [
      "❌ Something is missing!\n"
     ]
    }
   ],
   "source": [
    "@handle_errors\n",
    "def test_mono_pan():\n",
    "    \"\"\"Test cases for mono panning.\"\"\"\n",
    "    # load StereoControl instance\n",
    "    sc = StereoControl()\n",
    "    # one second of mono white noise\n",
    "    x_0 = np.random.sample(SR) * 2 - 1\n",
    "    # one second of silence\n",
    "    z = np.zeros(SR)\n",
    "    # TEST: hard left panning should be all left, no right\n",
    "    sc.position = -1\n",
    "    np.testing.assert_equal(sc.mono_pan(x_0)[0], x_0,\n",
    "        \"Hard left panning fails in left channel\")\n",
    "    np.testing.assert_equal(sc.mono_pan(x_0)[1], z,\n",
    "        \"Hard left panning fails in right channel\")\n",
    "    # TEST: hard left panning should be all left, no right\n",
    "    sc.position = 1\n",
    "    np.testing.assert_equal(sc.mono_pan(x_0)[0], z, \n",
    "        \"Hard right panning fails in left channel\")\n",
    "    np.testing.assert_equal(sc.mono_pan(x_0)[1], x_0, \n",
    "        \"Hard right panning fails in right channel\")\n",
    "    # TEST: Center panning should be equal on both sides\n",
    "    sc.position = 0\n",
    "    np.testing.assert_equal(sc.mono_pan(x_0)[0], sc.mono_pan(x_0)[1], \n",
    "        \"Center panning fails\")\n",
    "    # TEST: Equal power condition should be satisfied\n",
    "    for pos in np.linspace(-1, 1, 1000):\n",
    "        # update the positon attribute\n",
    "        sc.position = pos\n",
    "        # get the panning coefficients\n",
    "        lam, rho = sc.mono_pan(x_0)[:, 0] / x_0[0]\n",
    "        # test positivity\n",
    "        assert lam >= 0, \"Positivity fails for left channel\"\n",
    "        assert rho >= 0, \"Positivity fails for right channel\"\n",
    "        # test equal intensity\n",
    "        np.testing.assert_almost_equal(lam**2 + rho**2, 1), \\\n",
    "            f\"Equal intensity fails for pos={sc.position}\"\n",
    "\n",
    "# run the test just for fun\n",
    "test_mono_pan()"
   ]
  },
  {
   "cell_type": "markdown",
   "id": "d83688ca",
   "metadata": {},
   "source": [
    "With the tests cases in place, I can now start implementing the `mono_pan` method in `StereoControl`. Normally, the code for the test cases and the implementation would be in different Python modules and the tests would be run with `pytest`. Here I'll take a different approach for demonstrational purposes. I will iteratively update `StereoControl` by defining panning functions `mono_pan_v1(self, x_0)` and dynamically replacing the previous implementation using `StereoControl.mono_pan = mono_pan_v1`. \n",
    "\n",
    "In the first iteration, I will simply translate the mathematical formulas for the panning coefficients $\\lambda $ and $\\rho$ into code.\n",
    "However, this direct implementation does not pass the rather strict tests:"
   ]
  },
  {
   "cell_type": "code",
   "execution_count": 105,
   "id": "9894a832",
   "metadata": {},
   "outputs": [
    {
     "name": "stdout",
     "output_type": "stream",
     "text": [
      "❌ AssertionError:\n",
      "--------------------------------------------------------------------------------\n",
      "\n",
      "Arrays are not equal\n",
      "Hard right panning fails in left channel\n",
      "Mismatched elements: 44100 / 44100 (100%)\n",
      "Max absolute difference: 6.12317517e-17\n",
      "Max relative difference: inf\n",
      " x: array([ 3.256694e-17, -5.332062e-17,  4.840199e-17, ..., -1.997129e-17,\n",
      "        4.517397e-17, -4.837799e-17])\n",
      " y: array([0., 0., 0., ..., 0., 0., 0.])\n"
     ]
    }
   ],
   "source": [
    "# define a new mono_pan function\n",
    "def mono_pan_v1(self:StereoControl, x_0:np.ndarray) -> np.ndarray:\n",
    "    # compute angle from position\n",
    "    alpha = (self.position + 1) / 4 * PI\n",
    "    # infer coefficients\n",
    "    lam = np.cos(alpha)\n",
    "    rho = np.sin(alpha)\n",
    "    # compute panned signal (using NumPy's broadcasting)\n",
    "    x_panned = np.array([[lam],[rho]]) * x_0\n",
    "    return x_panned\n",
    "\n",
    "# update the corresponding method in StereoControl\n",
    "StereoControl.mono_pan = mono_pan_v1\n",
    "\n",
    "# run the tests\n",
    "test_mono_pan()"
   ]
  },
  {
   "cell_type": "markdown",
   "id": "2c67f022",
   "metadata": {},
   "source": [
    "As it turns out, the hard right panning is not quite hard enough. The reason is that `np.cos(np.pi / 2)` is not exactly $\\cos(\\pi/2)=0$, but only approximately. While this will not make an audible difference, it's easy to better by adding a case distinction. Here's another version which passes all the tests:"
   ]
  },
  {
   "cell_type": "code",
   "execution_count": 106,
   "id": "9bf94c64",
   "metadata": {},
   "outputs": [
    {
     "name": "stdout",
     "output_type": "stream",
     "text": [
      "✅ All tests passed!\n"
     ]
    }
   ],
   "source": [
    "def mono_pan_v2(self:StereoControl, x_0:np.ndarray) -> np.ndarray:\n",
    "    \"\"\"Places a mono audio signal in the stereo field. The \n",
    "    position is encoded as a floating point number between\n",
    "    -1 and 1. \n",
    "    \n",
    "    Arguments:\n",
    "    - x_m: Mono audio signal modeled as a 1d NumPy array\"\"\"\n",
    "    # make sure x_m is a mono signal\n",
    "    if not (type(x_0) == np.ndarray and x_0.ndim == 1):\n",
    "        raise ValueError(\"Input must be a 1d NumPy array.\")\n",
    "    pos = self.position\n",
    "    # compute coefficients\n",
    "    if pos == 0:        # center panning\n",
    "        rho = lam = SQRT12\n",
    "    elif pos == -1:     # hard left panning\n",
    "        lam, rho = 1, 0\n",
    "    elif pos == 1:      # hard left panning\n",
    "        lam, rho = 0, 1\n",
    "    else:               # intermediate panning\n",
    "        # compute angle\n",
    "        alpha = (pos + 1) / 4 * PI\n",
    "        # infer coefficients\n",
    "        lam = np.cos(alpha)\n",
    "        rho = np.sin(alpha)\n",
    "    # compute panned signal (using NumPy's broadcasting)\n",
    "    x_panned = np.array([[lam],[rho]]) * x_0\n",
    "    return x_panned\n",
    "\n",
    "# update `StereoControl.mono_pan` and run tests \n",
    "StereoControl.mono_pan = mono_pan_v2\n",
    "test_mono_pan()"
   ]
  },
  {
   "cell_type": "markdown",
   "id": "089aa640",
   "metadata": {},
   "source": [
    "### Stereo Width Adjustment"
   ]
  },
  {
   "cell_type": "markdown",
   "id": "e809c840",
   "metadata": {},
   "source": [
    "Next up is stereo width adjustment. Again, I'll first write some test cases relying on white noise. \n",
    "I'll check the following expected properties:\n",
    "\n",
    "* For width 1 the original signal should be returned, that is, $W_1(x)=x$.\n",
    "* For width 0 the signal should be centered, that is, the left and right channel contain the same information.\n",
    "* For width $0 < w < 1$ the signal power satisfies $\\|W_w(x)\\|^2 \\le \\|x\\|^2$ with a strict inequality if the side channel is non-zero.\n"
   ]
  },
  {
   "cell_type": "code",
   "execution_count": 107,
   "id": "bf7cd902",
   "metadata": {},
   "outputs": [
    {
     "name": "stdout",
     "output_type": "stream",
     "text": [
      "❌ Something is missing!\n"
     ]
    }
   ],
   "source": [
    "@handle_errors\n",
    "def test_adjust_width():\n",
    "    \"\"\"Test cases for mono panning.\"\"\"\n",
    "    # load StereoControl instance\n",
    "    sc = StereoControl()\n",
    "    # mono white noise for mid/side-channels (~6 dB headroom)\n",
    "    x_M = np.random.sample(SR) * - 0.5\n",
    "    x_S = np.random.sample(SR) * - 0.5\n",
    "    # left and right channels\n",
    "    x_L = x_M + 0.1 * x_S\n",
    "    x_R = x_M - 0.1 * x_S\n",
    "    # combine to stereo signal\n",
    "    x = np.stack([x_L, x_R], axis=0)\n",
    "    # TEST: width 1 gives the original signal\n",
    "    sc.width  = 1\n",
    "    y_1 = sc.adjust_width(x)\n",
    "    np.testing.assert_equal(y_1,x,\n",
    "        \"Width 1 does not give the original signal\")\n",
    "    # TEST: width 0 has no side signal\n",
    "    sc.width  = 0\n",
    "    y_0 = sc.adjust_width(x)\n",
    "    np.testing.assert_equal(y_0[0], y_0[1],\n",
    "        \"Side signal is non-zero for width 0\")\n",
    "    # TEST: power descreases with width\n",
    "    intermediate_widths = np.linspace(0, 1, 1000)[1:-1]\n",
    "    x_pow = np.sum(x ** 2, axis=0)\n",
    "    for w in intermediate_widths:\n",
    "        sc.width = w\n",
    "        y_w = sc.adjust_width(x)\n",
    "        y_pow = np.sum(y_w, axis=0)\n",
    "        assert (y_pow <= x_pow).all(),\\\n",
    "            f\"Signal power does not decrease for width {w}\"\n",
    "\n",
    "# run the test just for fun\n",
    "test_adjust_width()"
   ]
  },
  {
   "cell_type": "markdown",
   "id": "70e8b9d2",
   "metadata": {},
   "source": [
    "The direct implementation is again straight forward, but fails the tests due to a computation error:"
   ]
  },
  {
   "cell_type": "code",
   "execution_count": 108,
   "id": "855e03d3",
   "metadata": {},
   "outputs": [
    {
     "name": "stdout",
     "output_type": "stream",
     "text": [
      "❌ AssertionError:\n",
      "--------------------------------------------------------------------------------\n",
      "\n",
      "Arrays are not equal\n",
      "Width 1 does not give the original signal\n",
      "Mismatched elements: 73641 / 88200 (83.5%)\n",
      "Max absolute difference: 1.66533454e-16\n",
      "Max relative difference: 4.28501513e-13\n",
      " x: array([[-0.349459, -0.18888 , -0.375362, ..., -0.400089, -0.450615,\n",
      "        -0.177556],\n",
      "       [-0.285409, -0.157688, -0.290068, ..., -0.313816, -0.363305,\n",
      "        -0.170586]])\n",
      " y: array([[-0.349459, -0.18888 , -0.375362, ..., -0.400089, -0.450615,\n",
      "        -0.177556],\n",
      "       [-0.285409, -0.157688, -0.290068, ..., -0.313816, -0.363305,\n",
      "        -0.170586]])\n"
     ]
    }
   ],
   "source": [
    "# define new stereo width adjustment function\n",
    "def adjust_width_v1(self:StereoControl, x:np.ndarray) -> np.ndarray:\n",
    "    # get width\n",
    "    width = self.width\n",
    "    # get left and right channels\n",
    "    x_L, x_R = x[0], x[1]\n",
    "    # compute mid and side channels\n",
    "    x_M = (x_L + x_R) * SQRT12\n",
    "    x_S = (x_L - x_R) * SQRT12\n",
    "    # compute mid-side orthonormal bases\n",
    "    e_M = np.array([[1],[1]]) * SQRT12\n",
    "    e_S = np.array([[1],[-1]]) * SQRT12\n",
    "    # compute mid and side signals\n",
    "    x_mid = x_M * e_M \n",
    "    x_side = x_S * e_S \n",
    "    # compute adjusted signal\n",
    "    x_adjusted = x_mid + width * x_side\n",
    "    return x_adjusted\n",
    "\n",
    "# replace the method in StereoControl\n",
    "StereoControl.adjust_width = adjust_width_v1\n",
    "\n",
    "# run the tests\n",
    "test_adjust_width()"
   ]
  },
  {
   "cell_type": "markdown",
   "id": "45fe4a32",
   "metadata": {},
   "source": [
    "At first glance, the error might be caused by the fact that `np.sqrt(0.5)` is not exactly $1/\\sqrt2$. This is easily removed by rescanling the mid-side basis to $(1,1)$ and $(1,-1)$."
   ]
  },
  {
   "cell_type": "code",
   "execution_count": 109,
   "id": "f0c4d2b8",
   "metadata": {},
   "outputs": [
    {
     "name": "stdout",
     "output_type": "stream",
     "text": [
      "❌ AssertionError:\n",
      "--------------------------------------------------------------------------------\n",
      "\n",
      "Arrays are not equal\n",
      "Width 1 does not give the original signal\n",
      "Mismatched elements: 6379 / 88200 (7.23%)\n",
      "Max absolute difference: 5.55111512e-17\n",
      "Max relative difference: 2.35077547e-11\n",
      " x: array([[-0.249163, -0.05575 , -0.106219, ..., -0.228352, -0.039073,\n",
      "        -0.102983],\n",
      "       [-0.224188, -0.002711, -0.084127, ..., -0.173466,  0.01435 ,\n",
      "        -0.031522]])\n",
      " y: array([[-0.249163, -0.05575 , -0.106219, ..., -0.228352, -0.039073,\n",
      "        -0.102983],\n",
      "       [-0.224188, -0.002711, -0.084127, ..., -0.173466,  0.01435 ,\n",
      "        -0.031522]])\n"
     ]
    }
   ],
   "source": [
    "# define new stereo width adjustment function\n",
    "def adjust_width_v2(self:StereoControl, x:np.ndarray) -> np.ndarray:\n",
    "    # get width\n",
    "    width = self.width\n",
    "    # get left and right channels\n",
    "    x_L, x_R = x[0], x[1]\n",
    "    # compute rescaled mid and side channels\n",
    "    x_M = (x_L + x_R) * 0.5\n",
    "    x_S = (x_L - x_R) * 0.5\n",
    "    # compute rescaled mid-side basis\n",
    "    e_M = np.array([[1],[1]])\n",
    "    e_S = np.array([[1],[-1]])\n",
    "    # compute mid and side signals\n",
    "    x_mid = x_M * e_M \n",
    "    x_side = x_S * e_S \n",
    "    # compute adjusted signal\n",
    "    x_adjusted = x_mid + width * x_side\n",
    "    return x_adjusted\n",
    "\n",
    "# replace the method in StereoControl\n",
    "StereoControl.adjust_width = adjust_width_v2\n",
    "\n",
    "# run the tests\n",
    "test_adjust_width()"
   ]
  },
  {
   "cell_type": "markdown",
   "id": "1479c100",
   "metadata": {},
   "source": [
    "Unfortunately, this did not resolve the issue entirely, although there are significantly fewer \"mismatched elements\". In addition, the math got simpler which may have improved the performance efficiency. But given the white noise test input, even simple linear operations are not perfectly precise. The way out is another case distinction to bypass the computations for width 1 - which will also improve performance."
   ]
  },
  {
   "cell_type": "code",
   "execution_count": 110,
   "id": "f3eceef6",
   "metadata": {},
   "outputs": [
    {
     "name": "stdout",
     "output_type": "stream",
     "text": [
      "✅ All tests passed!\n"
     ]
    }
   ],
   "source": [
    "# define new stereo width adjustment function\n",
    "def adjust_width_v3(self:StereoControl, x:np.ndarray) -> np.ndarray:\n",
    "    # get width\n",
    "    width = self.width\n",
    "    # bypass for width 1\n",
    "    if width == 1:\n",
    "        return x\n",
    "    # get left and right channels\n",
    "    x_L, x_R = x[0], x[1]\n",
    "    # compute rescaled mid and side channels\n",
    "    x_M = (x_L + x_R) * 0.5\n",
    "    x_S = (x_L - x_R) * 0.5\n",
    "    # compute rescaled mid-side basis\n",
    "    e_M = np.array([[1],[1]])\n",
    "    e_S = np.array([[1],[-1]])\n",
    "    # compute mid and side signals\n",
    "    x_mid = x_M * e_M \n",
    "    x_side = x_S * e_S \n",
    "    # compute adjusted signal\n",
    "    x_adjusted = x_mid + width * x_side\n",
    "    return x_adjusted\n",
    "\n",
    "# replace the method in StereoControl\n",
    "StereoControl.adjust_width = adjust_width_v3\n",
    "\n",
    "# run the tests\n",
    "test_adjust_width()"
   ]
  },
  {
   "cell_type": "markdown",
   "id": "4c41bc16",
   "metadata": {},
   "source": [
    "Alright, this did it. "
   ]
  },
  {
   "cell_type": "markdown",
   "id": "159cfa42",
   "metadata": {},
   "source": [
    "### Refactoring and Optimizing the Code\n",
    "\n",
    "Now that all functions are there, I'll refactor the code. First, let's get the complete definition of `StereoControl` in one place."
   ]
  },
  {
   "cell_type": "code",
   "execution_count": 111,
   "id": "2d3a9e3b",
   "metadata": {},
   "outputs": [
    {
     "name": "stdout",
     "output_type": "stream",
     "text": [
      "✅ All tests passed!\n",
      "✅ All tests passed!\n"
     ]
    }
   ],
   "source": [
    "class StereoControl:\n",
    "    \"\"\"Provides various audio effects related to the stereo field.\"\"\"\n",
    "\n",
    "    def __init__(self, position=0, width=1):\n",
    "        self.position = position \n",
    "        self.width = width \n",
    "    \n",
    "    def mono_pan(self, x_0:np.ndarray) -> np.ndarray:\n",
    "        \"\"\"Places a mono audio signal in the stereo field. The \n",
    "        position is encoded as a floating point number between\n",
    "        -1 and 1. \n",
    "        \n",
    "        Arguments:\n",
    "        - x_m: Mono audio signal modeled as a 1d NumPy array\"\"\"\n",
    "        # make sure x_m is a mono signal\n",
    "        if not (type(x_0) == np.ndarray and x_0.ndim == 1):\n",
    "            raise ValueError(\"Input must be a 1d NumPy array.\")\n",
    "        pos = self.position\n",
    "        # compute coefficients\n",
    "        if pos == 0:        # center panning\n",
    "            rho = lam = SQRT12\n",
    "        elif pos == -1:     # hard left panning\n",
    "            lam, rho = 1, 0\n",
    "        elif pos == 1:      # hard left panning\n",
    "            lam, rho = 0, 1\n",
    "        else:               # intermediate panning\n",
    "            # compute angle\n",
    "            alpha = (pos + 1) / 4 * PI\n",
    "            # infer coefficients\n",
    "            lam = np.cos(alpha)\n",
    "            rho = np.sin(alpha)\n",
    "        # compute panned signal (using NumPy's broadcasting)\n",
    "        x_panned = np.array([[lam],[rho]]) * x_0\n",
    "        return x_panned\n",
    "    \n",
    "    def adjust_width(self, x:np.ndarray) -> np.ndarray:\n",
    "        # get width\n",
    "        width = self.width\n",
    "        # bypass for width 1\n",
    "        if width == 1:\n",
    "            return x\n",
    "        # get left and right channels\n",
    "        x_L, x_R = x[0], x[1]\n",
    "        # compute rescaled mid and side channels\n",
    "        x_M = (x_L + x_R) * 0.5\n",
    "        x_S = (x_L - x_R) * 0.5\n",
    "        # compute rescaled mid-side basis\n",
    "        e_M = np.array([[1],[1]])\n",
    "        e_S = np.array([[1],[-1]])\n",
    "        # compute mid and side signals\n",
    "        x_mid = x_M * e_M \n",
    "        x_side = x_S * e_S \n",
    "        # compute adjusted signal\n",
    "        x_adjusted = x_mid + width * x_side\n",
    "        return x_adjusted\n",
    "\n",
    "# run the tests\n",
    "test_mono_pan()\n",
    "test_adjust_width()"
   ]
  },
  {
   "cell_type": "markdown",
   "id": "ab436d33",
   "metadata": {},
   "source": [
    "There is one thing I'd like to do to improve performance for real-time applications. In an audio stream the data is not read in full, but rather in small blocks (e.g. 1024 samples at a time). If `mono_pan` is called, then the coefficients $\\lambda$ and $\\rho$ are computed again for every block. This creates unnecessary overhead, since the coefficients don't change unless the position parameter is changed. So it would be much more efficient to store the coefficients as attributes. \n",
    "\n",
    "Here's an implementation of this idea using private attributes `_position` and `_panning_coefficients`, along with a property attribute `position` whose setter updates both `_position` and `_panning_coefficients`. At this point, it pays off to have the test cases in place. While they don't guarantee that everything is perfect, they can help expose sloppy refactoring error."
   ]
  },
  {
   "cell_type": "code",
   "execution_count": 112,
   "id": "fe15ed4c",
   "metadata": {},
   "outputs": [
    {
     "name": "stdout",
     "output_type": "stream",
     "text": [
      "✅ All tests passed!\n",
      "✅ All tests passed!\n"
     ]
    }
   ],
   "source": [
    "class StereoControl:\n",
    "    \"\"\"Provides various audio effects related to the stereo field.\"\"\"\n",
    "\n",
    "    def __init__(self, position=0, width=1):\n",
    "        self._position = position \n",
    "        self.width = width \n",
    "        self._panning_coeffs = self._compute_panning_coeffs()\n",
    "    \n",
    "    @property\n",
    "    def position(self):\n",
    "        return self._position\n",
    "    @position.setter\n",
    "    def position(self, new_pos):\n",
    "        self._position = new_pos\n",
    "        self._panning_coeffs = self._compute_panning_coeffs()\n",
    "    \n",
    "    def _compute_panning_coeffs(self):\n",
    "        # get position parameter\n",
    "        pos = self.position\n",
    "        # compute coefficients\n",
    "        if pos == 0:        # center panning\n",
    "            rho = lam = SQRT12\n",
    "        elif pos == -1:     # hard left panning\n",
    "            lam, rho = 1, 0\n",
    "        elif pos == 1:      # hard left panning\n",
    "            lam, rho = 0, 1\n",
    "        else:               # intermediate panning\n",
    "            # compute angle\n",
    "            alpha = (pos + 1) / 4 * PI\n",
    "            # infer coefficients\n",
    "            lam = np.cos(alpha)\n",
    "            rho = np.sin(alpha)\n",
    "        return lam, rho\n",
    "\n",
    "    def mono_pan(self, x_0:np.ndarray) -> np.ndarray:\n",
    "        \"\"\"Places a mono audio signal in the stereo field. The \n",
    "        position is encoded as a floating point number between\n",
    "        -1 and 1. \n",
    "        \n",
    "        Arguments:\n",
    "        - x_m: Mono audio signal modeled as a 1d NumPy array\"\"\"\n",
    "        # make sure x_m is a mono signal\n",
    "        if not (type(x_0) == np.ndarray and x_0.ndim == 1):\n",
    "            raise ValueError(\"Input must be a 1d NumPy array.\")\n",
    "        # get panning coefficients\n",
    "        lam, rho = self._panning_coeffs\n",
    "        # compute panned signal (using NumPy's broadcasting)\n",
    "        x_panned = np.array([[lam],[rho]]) * x_0\n",
    "        return x_panned\n",
    "    \n",
    "    def adjust_width(self, x:np.ndarray) -> np.ndarray:\n",
    "        # get width\n",
    "        width = self.width\n",
    "        # bypass for width 1\n",
    "        if width == 1:\n",
    "            return x\n",
    "        # get left and right channels\n",
    "        x_L, x_R = x[0], x[1]\n",
    "        # compute rescaled mid and side channels\n",
    "        x_M = (x_L + x_R) * 0.5\n",
    "        x_S = (x_L - x_R) * 0.5\n",
    "        # compute rescaled mid-side basis\n",
    "        e_M = np.array([[1],[1]])\n",
    "        e_S = np.array([[1],[-1]])\n",
    "        # compute mid and side signals\n",
    "        x_mid = x_M * e_M \n",
    "        x_side = x_S * e_S \n",
    "        # compute adjusted signal\n",
    "        x_adjusted = x_mid + width * x_side\n",
    "        return x_adjusted\n",
    "\n",
    "# run the tests\n",
    "test_mono_pan()\n",
    "test_adjust_width()"
   ]
  }
 ],
 "metadata": {
  "kernelspec": {
   "display_name": "Python 3",
   "language": "python",
   "name": "python3"
  },
  "language_info": {
   "codemirror_mode": {
    "name": "ipython",
    "version": 3
   },
   "file_extension": ".py",
   "mimetype": "text/x-python",
   "name": "python",
   "nbconvert_exporter": "python",
   "pygments_lexer": "ipython3",
   "version": "3.13.5"
  }
 },
 "nbformat": 4,
 "nbformat_minor": 5
}

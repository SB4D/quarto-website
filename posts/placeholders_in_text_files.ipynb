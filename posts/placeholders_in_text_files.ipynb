{
 "cells": [
  {
   "cell_type": "raw",
   "id": "b3a351d5",
   "metadata": {
    "vscode": {
     "languageId": "raw"
    }
   },
   "source": [
    "---\n",
    "title: 'Loading \"formattble\" strings from plain text files'\n",
    "author: \"Stefan Behrens\"\n",
    "date: \"8/22/2025\"\n",
    "categories:\n",
    "  - Little Tricks\n",
    "  - Python\n",
    "---\n",
    "\n",
    "I was recently playing around with generating HTML or LaTeX files using Python.\n",
    "For that purpose, it's often conventient to use \"formattable\" strings with placeholders \n",
    "(eg. `{stuff:s}`) as code templates that can be filled with content.\n",
    "Sometimes it's also a good idea to outsource these templates as plain text in auxiliary \n",
    "files (e.g. `.html` or `.tex` files). I'm going to demonstrate to methods to do this.\n"
   ]
  },
  {
   "cell_type": "markdown",
   "id": "5a33e40b",
   "metadata": {},
   "source": [
    "## Standard string formatting\n",
    "\n",
    "Below I've put some placeholder  of the form `{stuff:s}` in an HTML file."
   ]
  },
  {
   "cell_type": "code",
   "execution_count": 48,
   "id": "62206799",
   "metadata": {},
   "outputs": [
    {
     "name": "stdout",
     "output_type": "stream",
     "text": [
      "HTML with placeholders:\n",
      "--------------------\n",
      "<html>\n",
      "<head>\n",
      "    <title>{page_title:s}</title>\n",
      "</head>\n",
      "<body>\n",
      "    <h1>{h1:s}</h1>\n",
      "    <p>{text:s}</p>\n",
      "</body>\n",
      "</html>\n"
     ]
    }
   ],
   "source": [
    "# Load HTML file with placeholders and print\n",
    "template = \"./templates/test_format.html\"\n",
    "with open(template, \"r\") as file:\n",
    "    html_template = file.read()\n",
    "print(\"HTML with placeholders:\")\n",
    "print(\"-\"*20)\n",
    "print(html_template)\n"
   ]
  },
  {
   "cell_type": "markdown",
   "id": "6176715c",
   "metadata": {},
   "source": [
    "Since the placeholders are now in a string, standard string formatting is available:"
   ]
  },
  {
   "cell_type": "code",
   "execution_count": 49,
   "id": "9cd71cc3",
   "metadata": {},
   "outputs": [
    {
     "name": "stdout",
     "output_type": "stream",
     "text": [
      "HTML after filling placeholders:\n",
      "--------------------\n",
      "<html>\n",
      "<head>\n",
      "    <title>Title</title>\n",
      "</head>\n",
      "<body>\n",
      "    <h1>Headline</h1>\n",
      "    <p>This is some text.</p>\n",
      "</body>\n",
      "</html>\n"
     ]
    }
   ],
   "source": [
    "# Fill placeholders and print again\n",
    "print(\"HTML after filling placeholders:\")\n",
    "print(\"-\"*20)\n",
    "html = html_template.format(\n",
    "    page_title=\"Title\",\n",
    "    h1=\"Headline\",\n",
    "    text=\"This is some text.\"\n",
    ")\n",
    "print(html)"
   ]
  },
  {
   "cell_type": "markdown",
   "id": "c596efb6",
   "metadata": {},
   "source": [
    "## Template Stings\n",
    "\n",
    "The same works with [template strings](https://docs.python.org/3/library/string.html#template-strings) using placeholders of the form `$stuff`. To make use of these, the `Template` class from the `string` library is needed."
   ]
  },
  {
   "cell_type": "code",
   "execution_count": 50,
   "id": "8e7c5e99",
   "metadata": {},
   "outputs": [
    {
     "name": "stdout",
     "output_type": "stream",
     "text": [
      "HTML with placeholders:\n",
      "--------------------\n",
      "<html>\n",
      "<head>\n",
      "    <title>$page_title</title>\n",
      "</head>\n",
      "<body>\n",
      "    <h1>$h1</h1>\n",
      "    <p>$text</p>\n",
      "</body>\n",
      "</html>\n"
     ]
    }
   ],
   "source": [
    "# Import the `Template` class from the string library\n",
    "from string import Template\n",
    "\n",
    "# Load HTML file with placeholders and print\n",
    "template = \"./templates/test_Template.html\"\n",
    "with open(template, \"r\") as file:\n",
    "    html_template = file.read()\n",
    "print(\"HTML with placeholders:\")\n",
    "print(\"-\"*20)\n",
    "print(html_template)"
   ]
  },
  {
   "cell_type": "markdown",
   "id": "310d42e1",
   "metadata": {},
   "source": [
    "The placeholder can be filled by creating a `Template` object from the string and then using the metho `.substitute(...)`."
   ]
  },
  {
   "cell_type": "code",
   "execution_count": 51,
   "id": "aff483a3",
   "metadata": {},
   "outputs": [
    {
     "name": "stdout",
     "output_type": "stream",
     "text": [
      "HTML after filling placeholders:\n",
      "--------------------\n",
      "<html>\n",
      "<head>\n",
      "    <title>Title</title>\n",
      "</head>\n",
      "<body>\n",
      "    <h1>Headline</h1>\n",
      "    <p>This is some text.</p>\n",
      "</body>\n",
      "</html>\n"
     ]
    }
   ],
   "source": [
    "# Create \"template string\"\n",
    "html_template = Template(html_template)\n",
    "\n",
    "# Fill placeholders and print again\n",
    "print(\"HTML after filling placeholders:\")\n",
    "print(\"-\"*20)\n",
    "html = html_template.substitute(\n",
    "    page_title=\"Title\",\n",
    "    h1=\"Headline\",\n",
    "    text=\"This is some text.\"\n",
    ")\n",
    "print(html)\n"
   ]
  },
  {
   "cell_type": "markdown",
   "id": "7bfe619d",
   "metadata": {},
   "source": [
    "## A LaTeX example\n",
    "\n",
    "Template strings are particularly useful when working with LaTeX code, which usually contains a lot of backslashes `\\` and curly braces `{...}`. The curly braces are [particularly annoying](#trouble-with-standard-string-formatting). \n",
    "\n",
    "Here's a simple example, again, first with placeholders."
   ]
  },
  {
   "cell_type": "code",
   "execution_count": 52,
   "id": "dc5073c8",
   "metadata": {},
   "outputs": [
    {
     "name": "stdout",
     "output_type": "stream",
     "text": [
      "LaTeX with placeholders:\n",
      "--------------------\n",
      "\\documentclass{article}\n",
      "\n",
      "\\author{Author}\n",
      "\\title{Title}\n",
      "\\date{\\today}\n",
      "\n",
      "\\begin{document}\n",
      "\n",
      "\\section{$SECTION}\n",
      "\n",
      "$TEXT\n",
      "\n",
      "\\end{document}\n"
     ]
    }
   ],
   "source": [
    "# Import the `Template` class from the string library\n",
    "from string import Template\n",
    "\n",
    "# Load LaTeX file with placeholders and print\n",
    "template = \"./templates/test_Template.tex\"\n",
    "with open(template, \"r\") as file:\n",
    "    latex_template = file.read()\n",
    "print(\"LaTeX with placeholders:\")\n",
    "print(\"-\"*20)\n",
    "print(latex_template)"
   ]
  },
  {
   "cell_type": "markdown",
   "id": "c176f2ec",
   "metadata": {},
   "source": [
    "And now with content:"
   ]
  },
  {
   "cell_type": "code",
   "execution_count": 53,
   "id": "44d2d8b7",
   "metadata": {},
   "outputs": [
    {
     "name": "stdout",
     "output_type": "stream",
     "text": [
      "LaTeX after filling placeholders:\n",
      "--------------------\n",
      "\\documentclass{article}\n",
      "\n",
      "\\author{Author}\n",
      "\\title{Title}\n",
      "\\date{\\today}\n",
      "\n",
      "\\begin{document}\n",
      "\n",
      "\\section{Introduction}\n",
      "\n",
      "This is some text.\n",
      "\n",
      "\\end{document}\n"
     ]
    }
   ],
   "source": [
    "# Create \"template string\"\n",
    "latex_template = Template(latex_template)\n",
    "\n",
    "# Fill placeholders and print again\n",
    "print(\"LaTeX after filling placeholders:\")\n",
    "print(\"-\"*20)\n",
    "latex = latex_template.substitute(\n",
    "    SECTION=\"Introduction\",\n",
    "    TEXT= \"This is some text.\"\n",
    ")\n",
    "print(latex)\n"
   ]
  },
  {
   "cell_type": "markdown",
   "id": "baaff6c3",
   "metadata": {},
   "source": [
    "### Trouble with standard string formatting\n",
    "\n",
    "Finally, here's a quick demonstration that standard string formatting does not work in this example.\n",
    "The problem is that Python cannot distinguiing the actual placeholders `{stuff:s}` from the many other things wrapped in curly braces. Every pair `{...}` looks like a placeholder. \n",
    "\n",
    "In the example below, the interpreter treats `{article}` as in `\\documentclass{article}` is a placeholder with key `\"article\"` and reports a key error."
   ]
  },
  {
   "cell_type": "code",
   "execution_count": 54,
   "id": "fe0e4b88",
   "metadata": {},
   "outputs": [
    {
     "name": "stdout",
     "output_type": "stream",
     "text": [
      "LaTeX with placeholders:\n",
      "--------------------\n",
      "\\documentclass{article}\n",
      "\n",
      "\\author{Author}\n",
      "\\title{Title}\n",
      "\\date{\\today}\n",
      "\n",
      "\\begin{document}\n",
      "\n",
      "\\section{{SECTION:s}}\n",
      "\n",
      "{TEXT:s}\n",
      "\n",
      "\\end{document}\n",
      "\n",
      "\n",
      "LaTeX after filling placeholders:\n",
      "--------------------\n"
     ]
    },
    {
     "ename": "KeyError",
     "evalue": "'article'",
     "output_type": "error",
     "traceback": [
      "\u001b[1;31m---------------------------------------------------------------------------\u001b[0m",
      "\u001b[1;31mKeyError\u001b[0m                                  Traceback (most recent call last)",
      "\u001b[1;32m~\\AppData\\Local\\Temp\\ipykernel_8280\\2517583926.py\u001b[0m in \u001b[0;36m<cell line: 0>\u001b[1;34m()\u001b[0m\n\u001b[0;32m     11\u001b[0m \u001b[0mprint\u001b[0m\u001b[1;33m(\u001b[0m\u001b[1;34m\"LaTeX after filling placeholders:\"\u001b[0m\u001b[1;33m)\u001b[0m\u001b[1;33m\u001b[0m\u001b[1;33m\u001b[0m\u001b[0m\n\u001b[0;32m     12\u001b[0m \u001b[0mprint\u001b[0m\u001b[1;33m(\u001b[0m\u001b[1;34m\"-\"\u001b[0m\u001b[1;33m*\u001b[0m\u001b[1;36m20\u001b[0m\u001b[1;33m)\u001b[0m\u001b[1;33m\u001b[0m\u001b[1;33m\u001b[0m\u001b[0m\n\u001b[1;32m---> 13\u001b[1;33m latex = latex_template.format(\n\u001b[0m\u001b[0;32m     14\u001b[0m     \u001b[0mSECTION\u001b[0m\u001b[1;33m=\u001b[0m\u001b[1;34m\"Introduction\"\u001b[0m\u001b[1;33m,\u001b[0m\u001b[1;33m\u001b[0m\u001b[1;33m\u001b[0m\u001b[0m\n\u001b[0;32m     15\u001b[0m     \u001b[0mTEXT\u001b[0m\u001b[1;33m=\u001b[0m \u001b[1;34m\"This is some text.\"\u001b[0m\u001b[1;33m\u001b[0m\u001b[1;33m\u001b[0m\u001b[0m\n",
      "\u001b[1;31mKeyError\u001b[0m: 'article'"
     ]
    }
   ],
   "source": [
    "# Load LaTeX file with placeholders and print\n",
    "template = \"./templates/test_format.tex\"\n",
    "with open(template, \"r\") as file:\n",
    "    latex_template = file.read()\n",
    "print(\"LaTeX with placeholders:\")\n",
    "print(\"-\"*20)\n",
    "print(latex_template)\n",
    "print(\"\\n\")\n",
    "\n",
    "# Fill placeholders and print again\n",
    "print(\"LaTeX after filling placeholders:\")\n",
    "print(\"-\"*20)\n",
    "latex = latex_template.format(\n",
    "    SECTION=\"Introduction\",\n",
    "    TEXT= \"This is some text.\"\n",
    ")\n",
    "print(latex)\n"
   ]
  }
 ],
 "metadata": {
  "kernelspec": {
   "display_name": "Python 3",
   "language": "python",
   "name": "python3"
  },
  "language_info": {
   "codemirror_mode": {
    "name": "ipython",
    "version": 3
   },
   "file_extension": ".py",
   "mimetype": "text/x-python",
   "name": "python",
   "nbconvert_exporter": "python",
   "pygments_lexer": "ipython3",
   "version": "3.13.5"
  }
 },
 "nbformat": 4,
 "nbformat_minor": 5
}

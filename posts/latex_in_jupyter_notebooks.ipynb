{
 "cells": [
  {
   "cell_type": "raw",
   "id": "997c6b84",
   "metadata": {
    "vscode": {
     "languageId": "raw"
    }
   },
   "source": [
    "---\n",
    "title: \"Custom LaTeX Commands in Jupyter Notebooks\"\n",
    "author: \"Stefan Behrens\"\n",
    "date: \"8/5/2025\"\n",
    "categories:\n",
    "  - Jupyter\n",
    "  - LaTeX\n",
    "---\n",
    "\n",
    "As a mathematician I've been using LaTeX for a very long time. Over the years I've gotten used to a number of custom macros. Now that I'm using Jupyter Notebooks more and more, I've been looking for a convenient way to use my commands in this setting as well. Most importantly, I've internalized the commands below to an extent that I *will* type them even if a try not to.\n"
   ]
  },
  {
   "cell_type": "markdown",
   "id": "c2647ce5",
   "metadata": {},
   "source": [
    "\n",
    "```latex\n",
    "% Numbers\n",
    "\\providecommand{\\N}{\\mathbb{N}} % natural numbers\n",
    "\\providecommand{\\Z}{\\mathbb{Z}} % integers\n",
    "\\providecommand{\\Q}{\\mathbb{Q}} % rational numbers\n",
    "\\providecommand{\\R}{\\mathbb{R}} % real numbers\n",
    "\\providecommand{\\C}{\\mathbb{C}} % complex numbers\n",
    "\n",
    "% Math font styles\n",
    "\\providecommand{\\mbb}[1]{\\mathbb{#1}}\n",
    "\\providecommand{\\mc}[1]{\\mathcal{#1}}\n",
    "\\providecommand{\\mf}[1]{\\mathfrak{#1}}\n",
    "\n",
    "% Arrows\n",
    "\\providecommand{\\xra}[1]{\\xrightarrow{#1}}\n",
    "\n",
    "% Useful things\n",
    "\\providecommand{\\inv}{^{-1}} % inverses\n",
    "\\providecommand{\\del}{\\partial}\n",
    "```\n",
    "\n",
    "By the way, if you're wondering why I'm using `\\providecommand` instead of `\\newcommand` or `\\renewcommand`, I've found the former to be less error prone since it doesn't try to overwrite or override already existing commands. And it gets the job done just as well for me. "
   ]
  },
  {
   "cell_type": "markdown",
   "id": "cef61c7f",
   "metadata": {},
   "source": [
    "## Things that work from the get-go\n",
    "\n",
    "Before I continue, I should say that Visual Studio Code is my editor of choice.\n",
    "This matters, because it uses [KaTeX](https://katex.org/) as a rendering engine for LaTeX code in Jupyter Notebooks. KaTeX is not a full LaTeX distribution and only supports a small selection of commands. The full list is available [here](https://katex.org/docs/supported.html). A few of \"my\" commands work from the get-go:\n",
    "\n",
    "* `\\R` gives $\\R$ \n",
    "* `\\Z` gives $\\Z$\n",
    "* `\\N` gives $\\N$ \n",
    "* `\\set{...}` serves as `\\{...\\}` and gives $\\set{...}$\n",
    "* `\\Set{...}` serves as `\\left\\{...\\right\\}` and curly brackets with auto-adapted size\n",
    "\n",
    "However, `\\Q` and `\\C` *do not* give $\\mathbb Q$ and $\\mathbb C$! While I don't use `\\Q` that much, not having `\\C` is a problem."
   ]
  },
  {
   "cell_type": "markdown",
   "id": "0c30f3d4",
   "metadata": {},
   "source": [
    "## Adding custom LaTeX commands in a Jupyter Notebook\n"
   ]
  },
  {
   "cell_type": "markdown",
   "id": "3acc632e",
   "metadata": {},
   "source": [
    "Fortunately, it is possible to define custom LaTeX macros in a Jupter notebook. \n",
    "You just have to wrap the usual `\\newcommand{}[]{}` or `providecommand{}[]{}`in dollar signs as in the following example: \n",
    "```\n",
    "$\\newcommand{\\C}{\\mathbb C}$\n",
    "Now I can write $\\C$ instead of $\\mathbb C$!\n",
    "```\n",
    "```\n",
    "$\\providecommand{\\mc}[1]{\\mathcal{#1}}$\n",
    "Now I can write $\\mc H$ instead of $\\mathcal{H}$.\n",
    "```\n",
    "$\\providecommand{\\C}{\\mathbb C}$\n",
    "$\\providecommand{\\mc}[1]{\\mathcal{#1}}$\n",
    "Indeed `\\C` and `\\mc H` now give $\\C$  and $\\mc H$.\n",
    "Once declared, the macros are available in the entire notebook; they are not limited to the cell in which they are defined. "
   ]
  },
  {
   "cell_type": "markdown",
   "id": "e59dac8c",
   "metadata": {},
   "source": [
    "Indeed, this is a new cell and `\\C` still gives $\\C$ although this was defined in a different cell. I could now even use this command *before* it was defined, that is, in cells above the one in which it is defined. However, this would produce an error the next time I open the notebook. "
   ]
  },
  {
   "cell_type": "markdown",
   "id": "a0ab4c2c",
   "metadata": {},
   "source": [
    "$\\providecommand{\\Q}{\\mathbb{Q}}$\n",
    "There's another minor catch.\n",
    "When using `\\newcommand` as in `$\\newcommand{\\Q}{\\mathbb{Q}}$`, say, make sure to put it in the top of the cell before any text. If you put it somewhere else (e.g. between paragraphs), then everything will be fine the first time you execute the cell, but starting from the second execution you'll get this error:\n",
    "```\n",
    "ParseError: KaTeX parse error: \\newcommand{\\Q} attempting to redefine \\Q; use \\renewcommand\n",
    "```\n",
    "As I've already mentioned, I generally prefer to use `\\providecommand{}` as it's less error prone. This also holds in this case. \n",
    "`$\\providecommand{\\Q}{\\mathbb{Q}}$` will simply define `\\Q` the first time around and do nothing any time after that, no matter where it was placed in the code."
   ]
  },
  {
   "cell_type": "markdown",
   "id": "7fa5dbe4",
   "metadata": {},
   "source": [
    "To summarize, the best practice is as in LaTeX: \n",
    "* Put all your macros in the beginning of the document before the main text.\n",
    "* Try to use `\\providecommand` instead of `\\newcommand` or `\\renewcommand` whenever you can.\n",
    "\n",
    "From now on, the first markdown cell in my Jupyter Notebooks will start something like this:\n",
    "```markdown\n",
    "# Title (or no title...)\n",
    "$$\n",
    "% Numbers\n",
    "\\providecommand{\\N}{\\mathbb{N}} % natural numbers\n",
    "\\providecommand{\\Z}{\\mathbb{Z}} % integers\n",
    "\\providecommand{\\Q}{\\mathbb{Q}} % rational numbers\n",
    "\\providecommand{\\R}{\\mathbb{R}} % real numbers\n",
    "\\providecommand{\\C}{\\mathbb{C}} % complex numbers\n",
    "\n",
    "% Math font styles\n",
    "\\providecommand{\\mbb}[1]{\\mathbb{#1}}\n",
    "\\providecommand{\\mc}[1]{\\mathcal{#1}}\n",
    "\\providecommand{\\mf}[1]{\\mathfrak{#1}}\n",
    "\n",
    "% Arrows\n",
    "\\providecommand{\\xra}[1]{\\xrightarrow{#1}}\n",
    "\n",
    "% Useful things\n",
    "\\providecommand{\\inv}{^{-1}} % inverses\n",
    "\\providecommand{\\del}{\\partial}\n",
    "$$\n",
    "\n",
    "Text goes here...\n",
    "```\n"
   ]
  },
  {
   "cell_type": "markdown",
   "id": "48750f1c",
   "metadata": {},
   "source": [
    "### Loading custom LaTeX macros from a file into a Jupyter Notebook?\n",
    "\n",
    "As I've said, over the years I've accumulated a set selection of custom macros and I've put them into a custom package. \n",
    "It would be great if I could use it in my Jupyter Notebooks as well. Unfortunately, it's not as simple as writing `$\\include[my_package]$`. Neither can I simply put my commands in a file `my_commands.tex` and write `$\\input{my_commands.tex}$`. \n",
    "\n",
    "I'll look into this another time and if I find a solution, I'll update the article."
   ]
  }
 ],
 "metadata": {
  "kernelspec": {
   "display_name": "Python 3",
   "language": "python",
   "name": "python3"
  },
  "language_info": {
   "codemirror_mode": {
    "name": "ipython",
    "version": 3
   },
   "file_extension": ".py",
   "mimetype": "text/x-python",
   "name": "python",
   "nbconvert_exporter": "python",
   "pygments_lexer": "ipython3",
   "version": "3.13.5"
  }
 },
 "nbformat": 4,
 "nbformat_minor": 5
}

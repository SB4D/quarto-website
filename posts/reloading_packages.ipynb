{
 "cells": [
  {
   "cell_type": "raw",
   "id": "a5d69899",
   "metadata": {
    "vscode": {
     "languageId": "raw"
    }
   },
   "source": [
    "---\n",
    "title: \"Reloading imports in Jupyter Notebooks\"\n",
    "author: \"Stefan Behrens\"\n",
    "date: \"9/1/2025\"\n",
    "categories:\n",
    "  - Python\n",
    "  - Jupyter\n",
    "  - Little Tricks\n",
    "---"
   ]
  },
  {
   "cell_type": "markdown",
   "id": "a1e84af7",
   "metadata": {},
   "source": [
    "This is another short post mostly written for me to remember something. \n",
    "When working on a Python library, I like to have a Jupyter Notebook for testing.\n",
    "However, by default, a Jupyter Notebook only runs every import once. \n",
    "So any imported module that's actively being developed remains in the state in which it was first loaded until a forced reload.\n",
    "\n",
    "One way to do a forced reload is to restart the kernel. But this is often inconvenient. \n",
    "A more convenient way is to use the `importlib` module as follows:"
   ]
  },
  {
   "cell_type": "markdown",
   "id": "e8878299",
   "metadata": {},
   "source": [
    "```python\n",
    "# import the importlib library first\n",
    "import importlib\n",
    "# next import your module\n",
    "import my_module\n",
    "# force the module to reload each time the cell runs\n",
    "importlib.reload(my_module)\n",
    "# only now laod specific functions from that the module\n",
    "from my_module import some_function\n",
    "```"
   ]
  },
  {
   "cell_type": "markdown",
   "id": "5af5fbb7",
   "metadata": {},
   "source": [
    "**Important:** Even if you only want the last line of code, you have to include the first four (ignoring comments). Reloading individual functions does not work this way, that is, `importlib.reload(some_function)` produces an error."
   ]
  }
 ],
 "metadata": {
  "kernelspec": {
   "display_name": "Python 3",
   "language": "python",
   "name": "python3"
  },
  "language_info": {
   "codemirror_mode": {
    "name": "ipython",
    "version": 3
   },
   "file_extension": ".py",
   "mimetype": "text/x-python",
   "name": "python",
   "nbconvert_exporter": "python",
   "pygments_lexer": "ipython3",
   "version": "3.13.5"
  }
 },
 "nbformat": 4,
 "nbformat_minor": 5
}

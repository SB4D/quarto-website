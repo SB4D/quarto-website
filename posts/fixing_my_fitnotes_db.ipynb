{
 "cells": [
  {
   "cell_type": "raw",
   "id": "64e339d5",
   "metadata": {
    "vscode": {
     "languageId": "raw"
    }
   },
   "source": [
    "---\n",
    "title: \"Fixing a Database Using Machine Learning\"\n",
    "author: \"Stefan Behrens\"\n",
    "date: \"9/9/2025\"\n",
    "categories:\n",
    "  - Python\n",
    "  - SQL\n",
    "  - Machine Learning\n",
    "  - Data Science\n",
    "listing:\n",
    "  - image: false\n",
    "---\n",
    "\n",
    "I use a combination of SQL, data analysis, and machine learning \n",
    "to fix faulty entries in the database of my workout tracking app."
   ]
  },
  {
   "cell_type": "markdown",
   "id": "1e2a6156",
   "metadata": {},
   "source": [
    "## The Problem and the Approach\n",
    "\n",
    "I've been using the [FitNotes](http://www.fitnotesapp.com/) app to track my workouts since 2018. Among other things, I've been doing the bar bell classics: bench press, squat, deadlift, and overhead press. Once I got the hang of the exercises, I started doing a few warm-up sets with lower weights followed by the regular sets. The problem is that I eventually decided to track the warm-up sets separately, but didn't do so in the beginning. The resulting inconsistency of my work-out log has been bothering me ever since.\n",
    "\n",
    "More precisely, in the beginning all deadlift sets were tracked under the exercise label \"Deadlift\". After a while I introduced another label \"Deadlift (Warm Up)\" and the same goes for the other three exercises. Altogether, I have about 5000 tracked sets for the four exercises of which roughly 1000 predate the introduction of the \"... (Warm Up)\" labels - the precise numbers will be determined later."
   ]
  },
  {
   "cell_type": "markdown",
   "id": "87f16cd3",
   "metadata": {},
   "source": [
    "Luckily, FitNotes provides a convenient backup and restore feature. A full backup comes in the form of an [SQLite3](https://en.wikipedia.org/wiki/SQLite) file, which is reasonably easy to work with. \n",
    "The task is to find the database entries representing the falsely labeled warm-up sets, and to assign the correct labels. \n",
    "\n",
    "While the large number of potentially falsely categorized sets essentially rules out a manual approach, the even larger number of properly categorized sets suggests a machine learning approach: train a suitable classifier model on the good data and use it to identify the bad data. "
   ]
  },
  {
   "cell_type": "markdown",
   "id": "7b987da6",
   "metadata": {},
   "source": [
    "A preview of the main function should give a good idea of the things to come:\n",
    "\n",
    "```python\n",
    "def fix_db_file(db_file):\n",
    "    # get the data from the database file\n",
    "    data = load_data(db_file)\n",
    "    # prepare the data\n",
    "    prepared_data = prepare_data(data)\n",
    "    # make prediction which early sets are warm-ups\n",
    "    predicted_data = predict_warm_ups(prepared_data)\n",
    "    # determine the \"bad\" set IDs\n",
    "    bad_set_ids = get_bad_ids(predicted_data)\n",
    "    # update database file\n",
    "    update_db_file(db_file, bad_set_ids)\n",
    "```"
   ]
  },
  {
   "cell_type": "markdown",
   "id": "54099ac6",
   "metadata": {},
   "source": [
    "The following packages will be used in the implementation:"
   ]
  },
  {
   "cell_type": "code",
   "execution_count": 82,
   "id": "0b3fa7ba",
   "metadata": {},
   "outputs": [],
   "source": [
    "# database and data handling\n",
    "import sqlite3\n",
    "import pandas as pd\n",
    "import numpy as np\n",
    "# classical machine learning\n",
    "from sklearn.model_selection import train_test_split, cross_val_score, StratifiedKFold\n",
    "from sklearn.metrics import confusion_matrix, ConfusionMatrixDisplay, classification_report\n",
    "from sklearn.linear_model import LogisticRegression, Perceptron\n",
    "from sklearn.naive_bayes import GaussianNB\n",
    "from sklearn.neighbors import KNeighborsClassifier\n",
    "from sklearn.tree import DecisionTreeClassifier\n",
    "from sklearn.ensemble import RandomForestClassifier\n",
    "from sklearn.svm import LinearSVC\n",
    "# deep learning\n",
    "import torch\n",
    "import torch.nn as nn\n",
    "import torch.optim as optim\n",
    "# visualization\n",
    "import matplotlib.pyplot as plt\n",
    "# file operations\n",
    "from datetime import datetime\n",
    "import shutil"
   ]
  },
  {
   "cell_type": "markdown",
   "id": "e59b349e",
   "metadata": {},
   "source": [
    "## Step 1: Loading the Data"
   ]
  },
  {
   "cell_type": "markdown",
   "id": "10bacc19",
   "metadata": {},
   "source": [
    "The FitNotes backups come in the form of files named like `FitNotes_Backup_2025_08_19_11_53_20.fitnotes`, for example. \n",
    "As mentioned, these are just SQLite3 files which are reasonably easy to work with (arguably as easy as it gets with SQL databases). \n",
    "To get started, I opened the file in [DB Browser for SQLite](https://sqlitebrowser.org/) which is great for exploring SQLite databases and drafting queries. In this case, I found that there are 24 tables, but only two of them are relevant:\n",
    "\n",
    "* `exercise`: contains the information about the different exercises. The relevant columns are\n",
    "    * `_id`: a numerical primary key\n",
    "    * `name`: the exercise names \n",
    "* `training_log`: This contains the training logs with one row for each recorded set. The relevant columns are:\n",
    "    * `_id`: again, a numerical primary key\n",
    "    * `date`: the date in the format YYYY-MM-DD\n",
    "    * `metric_weight`: the weight for the set in kilograms (kg)\n",
    "    * `reps`: the number of repitions in the set\n",
    "    * `exercise_id`: a foreign key referencing the exercise with the corresponding `_id` in the `exercise` table\n",
    "\n",
    "With this understood, it's time to run some queries. I'm opting for a combination of `sqlite3` and `pandas` to have the query results available as dataframes and ready for further processing."
   ]
  },
  {
   "cell_type": "code",
   "execution_count": 83,
   "id": "75dd4ac3",
   "metadata": {},
   "outputs": [],
   "source": [
    "# Specify path of the FitNotes backup file\n",
    "FITNOTES_BACKUP = \"FitNotes_Backup_2025_08_19_11_53_20.fitnotes\"\n",
    "\n",
    "# Use the following function to run queries\n",
    "def run_query(query, db=FITNOTES_BACKUP):\n",
    "    \"\"\"Run SQL query and return results as dataframe.\"\"\"\n",
    "    with sqlite3.connect(db) as conn:\n",
    "        results = pd.read_sql(sql=query, con=conn)\n",
    "    return results"
   ]
  },
  {
   "cell_type": "markdown",
   "id": "77d78ce5",
   "metadata": {},
   "source": [
    "Loading the relevant data from the database file involves a combination of joins and subqueries. \n",
    "First, I have to find the exercise IDs corresponding to the exercises which have a \"... (Warm Up)\" version, and then I can retrieve the relevant entries from the `training_log` table. \n",
    "This gives the desired `load_data()` function. "
   ]
  },
  {
   "cell_type": "code",
   "execution_count": 84,
   "id": "2287c335",
   "metadata": {},
   "outputs": [],
   "source": [
    "\n",
    "exercise_ids_subquery=\"\"\"\n",
    "SELECT _id\n",
    "FROM exercise\n",
    "WHERE name LIKE '% (Warm Up)'\n",
    "   OR name || ' (Warm Up)' IN (SELECT name FROM exercise)\n",
    "\"\"\"\n",
    "\n",
    "all_sets_query = f\"\"\"\n",
    "SELECT\n",
    "\tT._id as \"set_id\",\n",
    "\tT.date as \"date\",\n",
    "    E._id as \"exc_id\",\n",
    "\tE.name as \"label\",\n",
    "\tT.metric_weight as \"weight\",\n",
    "\tT.reps as \"reps\"\n",
    "FROM\n",
    "\ttraining_log T,\n",
    "\texercise E\n",
    "WHERE\n",
    "\tT.exercise_id = E._id AND\n",
    "\tT.exercise_id IN ({exercise_ids_subquery}) AND\n",
    "    E.name NOT LIKE 'Fake%'\n",
    "\"\"\"\n",
    "\n",
    "def load_data(fitnotes_backup=FITNOTES_BACKUP):\n",
    "\tall_sets = run_query(all_sets_query, db=fitnotes_backup)\n",
    "\treturn all_sets\n"
   ]
  },
  {
   "cell_type": "markdown",
   "id": "b42e32ec",
   "metadata": {},
   "source": [
    "Before I take a look at the data, I want to determine the date that I started introducing the warm-up categories. This involves another simple join query."
   ]
  },
  {
   "cell_type": "code",
   "execution_count": 85,
   "id": "16267225",
   "metadata": {},
   "outputs": [
    {
     "name": "stdout",
     "output_type": "stream",
     "text": [
      "First appearance of warm-up label: 2020-02-07\n"
     ]
    }
   ],
   "source": [
    "def get_split_date(db_file):\n",
    "    first_warm_up_query = \"\"\"\n",
    "    SELECT\n",
    "        min(T.date) as \"date\"\n",
    "    FROM \n",
    "        training_log T, exercise E\n",
    "    WHERE\n",
    "        T.exercise_id = E._id AND E.name LIKE \"% (Warm Up)\"\n",
    "    \"\"\"\n",
    "    result = run_query(first_warm_up_query, db_file)\n",
    "    return result['date'][0]\n",
    "\n",
    "print(\"First appearance of warm-up label:\", get_split_date(FITNOTES_BACKUP))"
   ]
  },
  {
   "cell_type": "markdown",
   "id": "ae155007",
   "metadata": {},
   "source": [
    "I will use this date to split the data in two parts: the properly labeled \"good data\", and the partially incorrectly labeled \"problem data\". "
   ]
  },
  {
   "cell_type": "code",
   "execution_count": 86,
   "id": "182b6845",
   "metadata": {},
   "outputs": [],
   "source": [
    "SPLIT_DATE = get_split_date(FITNOTES_BACKUP)\n",
    "\n",
    "def good_problem_split(data):\n",
    "    # extract good data\n",
    "    good_mask = data['date'] >= SPLIT_DATE\n",
    "    good_data = data[good_mask]\n",
    "    # extract problematic data\n",
    "    problem_mask = data['date'] < SPLIT_DATE\n",
    "    problem_data = data[problem_mask]\n",
    "    return good_data, problem_data\n"
   ]
  },
  {
   "cell_type": "markdown",
   "id": "621d5f9e",
   "metadata": {},
   "source": [
    "## Step 2: Exploring and Preparing the Data"
   ]
  },
  {
   "cell_type": "markdown",
   "id": "0259b83f",
   "metadata": {},
   "source": [
    "First, it's good to know how much data there is and how much of it is properly labeled."
   ]
  },
  {
   "cell_type": "code",
   "execution_count": 87,
   "id": "d791e220",
   "metadata": {},
   "outputs": [
    {
     "name": "stdout",
     "output_type": "stream",
     "text": [
      "Numbers of tracked sets:\n",
      "----------------------------\n",
      "Total sets:      5091\n",
      "Good sets:       4057 (80 %)\n",
      "Problem sets:    1034 (20 %)\n"
     ]
    }
   ],
   "source": [
    "# load and split the data\n",
    "raw_data = load_data()\n",
    "good_sets, problem_sets = good_problem_split(raw_data)\n",
    "# print the counts of elements\n",
    "print(\"Numbers of tracked sets:\")\n",
    "print(\"----------------------------\")\n",
    "print(f\"{'Total sets:':17}{len(raw_data):4d}\")\n",
    "print(f\"{'Good sets:':17}{len(good_sets):4d} ({100 * len(good_sets) / len(raw_data):0.0f} %)\")\n",
    "print(f\"{'Problem sets:':17}{len(problem_sets):4d} ({100 * len(problem_sets) / len(raw_data):0.0f} %)\")\n"
   ]
  },
  {
   "cell_type": "markdown",
   "id": "47311669",
   "metadata": {},
   "source": [
    "Next up is a look at the good sets, if only to make sure that the split was done correctly. This is indeed so, since all exercises conistently start appearing with separate warm-up categories from `SPLIT_DATE` onnward:"
   ]
  },
  {
   "cell_type": "code",
   "execution_count": 88,
   "id": "f2dfc272",
   "metadata": {},
   "outputs": [
    {
     "data": {
      "text/html": [
       "<div>\n",
       "<style scoped>\n",
       "    .dataframe tbody tr th:only-of-type {\n",
       "        vertical-align: middle;\n",
       "    }\n",
       "\n",
       "    .dataframe tbody tr th {\n",
       "        vertical-align: top;\n",
       "    }\n",
       "\n",
       "    .dataframe thead th {\n",
       "        text-align: right;\n",
       "    }\n",
       "</style>\n",
       "<table border=\"1\" class=\"dataframe\">\n",
       "  <thead>\n",
       "    <tr style=\"text-align: right;\">\n",
       "      <th></th>\n",
       "      <th>set_id</th>\n",
       "      <th>date</th>\n",
       "      <th>exc_id</th>\n",
       "      <th>label</th>\n",
       "      <th>weight</th>\n",
       "      <th>reps</th>\n",
       "    </tr>\n",
       "  </thead>\n",
       "  <tbody>\n",
       "    <tr>\n",
       "      <th>1034</th>\n",
       "      <td>6832</td>\n",
       "      <td>2020-02-07</td>\n",
       "      <td>112</td>\n",
       "      <td>Flat Barbell Bench Press (Warm Up)</td>\n",
       "      <td>20.0</td>\n",
       "      <td>6</td>\n",
       "    </tr>\n",
       "    <tr>\n",
       "      <th>1035</th>\n",
       "      <td>6836</td>\n",
       "      <td>2020-02-07</td>\n",
       "      <td>37</td>\n",
       "      <td>Flat Barbell Bench Press</td>\n",
       "      <td>50.0</td>\n",
       "      <td>5</td>\n",
       "    </tr>\n",
       "    <tr>\n",
       "      <th>1036</th>\n",
       "      <td>6837</td>\n",
       "      <td>2020-02-07</td>\n",
       "      <td>37</td>\n",
       "      <td>Flat Barbell Bench Press</td>\n",
       "      <td>50.0</td>\n",
       "      <td>5</td>\n",
       "    </tr>\n",
       "    <tr>\n",
       "      <th>1037</th>\n",
       "      <td>6838</td>\n",
       "      <td>2020-02-07</td>\n",
       "      <td>37</td>\n",
       "      <td>Flat Barbell Bench Press</td>\n",
       "      <td>50.0</td>\n",
       "      <td>5</td>\n",
       "    </tr>\n",
       "    <tr>\n",
       "      <th>1038</th>\n",
       "      <td>6839</td>\n",
       "      <td>2020-02-07</td>\n",
       "      <td>37</td>\n",
       "      <td>Flat Barbell Bench Press</td>\n",
       "      <td>42.0</td>\n",
       "      <td>9</td>\n",
       "    </tr>\n",
       "    <tr>\n",
       "      <th>1039</th>\n",
       "      <td>6841</td>\n",
       "      <td>2020-02-07</td>\n",
       "      <td>113</td>\n",
       "      <td>Deadlift (Warm Up)</td>\n",
       "      <td>60.0</td>\n",
       "      <td>5</td>\n",
       "    </tr>\n",
       "    <tr>\n",
       "      <th>1040</th>\n",
       "      <td>6846</td>\n",
       "      <td>2020-02-07</td>\n",
       "      <td>48</td>\n",
       "      <td>Deadlift</td>\n",
       "      <td>106.0</td>\n",
       "      <td>4</td>\n",
       "    </tr>\n",
       "    <tr>\n",
       "      <th>1041</th>\n",
       "      <td>6847</td>\n",
       "      <td>2020-02-07</td>\n",
       "      <td>48</td>\n",
       "      <td>Deadlift</td>\n",
       "      <td>106.0</td>\n",
       "      <td>4</td>\n",
       "    </tr>\n",
       "    <tr>\n",
       "      <th>1042</th>\n",
       "      <td>6848</td>\n",
       "      <td>2020-02-07</td>\n",
       "      <td>48</td>\n",
       "      <td>Deadlift</td>\n",
       "      <td>104.0</td>\n",
       "      <td>5</td>\n",
       "    </tr>\n",
       "    <tr>\n",
       "      <th>1043</th>\n",
       "      <td>6849</td>\n",
       "      <td>2020-02-07</td>\n",
       "      <td>48</td>\n",
       "      <td>Deadlift</td>\n",
       "      <td>90.0</td>\n",
       "      <td>6</td>\n",
       "    </tr>\n",
       "    <tr>\n",
       "      <th>1044</th>\n",
       "      <td>6850</td>\n",
       "      <td>2020-02-07</td>\n",
       "      <td>112</td>\n",
       "      <td>Flat Barbell Bench Press (Warm Up)</td>\n",
       "      <td>40.0</td>\n",
       "      <td>4</td>\n",
       "    </tr>\n",
       "    <tr>\n",
       "      <th>1045</th>\n",
       "      <td>6851</td>\n",
       "      <td>2020-02-07</td>\n",
       "      <td>112</td>\n",
       "      <td>Flat Barbell Bench Press (Warm Up)</td>\n",
       "      <td>50.0</td>\n",
       "      <td>2</td>\n",
       "    </tr>\n",
       "    <tr>\n",
       "      <th>1046</th>\n",
       "      <td>6852</td>\n",
       "      <td>2020-02-07</td>\n",
       "      <td>113</td>\n",
       "      <td>Deadlift (Warm Up)</td>\n",
       "      <td>90.0</td>\n",
       "      <td>2</td>\n",
       "    </tr>\n",
       "    <tr>\n",
       "      <th>1047</th>\n",
       "      <td>6853</td>\n",
       "      <td>2020-02-07</td>\n",
       "      <td>113</td>\n",
       "      <td>Deadlift (Warm Up)</td>\n",
       "      <td>100.0</td>\n",
       "      <td>2</td>\n",
       "    </tr>\n",
       "    <tr>\n",
       "      <th>1048</th>\n",
       "      <td>6858</td>\n",
       "      <td>2020-02-11</td>\n",
       "      <td>111</td>\n",
       "      <td>Overhead Press (Warm Up)</td>\n",
       "      <td>20.0</td>\n",
       "      <td>7</td>\n",
       "    </tr>\n",
       "  </tbody>\n",
       "</table>\n",
       "</div>"
      ],
      "text/plain": [
       "      set_id        date  exc_id                               label  weight  \\\n",
       "1034    6832  2020-02-07     112  Flat Barbell Bench Press (Warm Up)    20.0   \n",
       "1035    6836  2020-02-07      37            Flat Barbell Bench Press    50.0   \n",
       "1036    6837  2020-02-07      37            Flat Barbell Bench Press    50.0   \n",
       "1037    6838  2020-02-07      37            Flat Barbell Bench Press    50.0   \n",
       "1038    6839  2020-02-07      37            Flat Barbell Bench Press    42.0   \n",
       "1039    6841  2020-02-07     113                  Deadlift (Warm Up)    60.0   \n",
       "1040    6846  2020-02-07      48                            Deadlift   106.0   \n",
       "1041    6847  2020-02-07      48                            Deadlift   106.0   \n",
       "1042    6848  2020-02-07      48                            Deadlift   104.0   \n",
       "1043    6849  2020-02-07      48                            Deadlift    90.0   \n",
       "1044    6850  2020-02-07     112  Flat Barbell Bench Press (Warm Up)    40.0   \n",
       "1045    6851  2020-02-07     112  Flat Barbell Bench Press (Warm Up)    50.0   \n",
       "1046    6852  2020-02-07     113                  Deadlift (Warm Up)    90.0   \n",
       "1047    6853  2020-02-07     113                  Deadlift (Warm Up)   100.0   \n",
       "1048    6858  2020-02-11     111            Overhead Press (Warm Up)    20.0   \n",
       "\n",
       "      reps  \n",
       "1034     6  \n",
       "1035     5  \n",
       "1036     5  \n",
       "1037     5  \n",
       "1038     9  \n",
       "1039     5  \n",
       "1040     4  \n",
       "1041     4  \n",
       "1042     5  \n",
       "1043     6  \n",
       "1044     4  \n",
       "1045     2  \n",
       "1046     2  \n",
       "1047     2  \n",
       "1048     7  "
      ]
     },
     "execution_count": 88,
     "metadata": {},
     "output_type": "execute_result"
    }
   ],
   "source": [
    "good_sets.head(15)"
   ]
  },
  {
   "cell_type": "markdown",
   "id": "effe12bb",
   "metadata": {},
   "source": [
    "Ultimately, I'm interested in the information whether a given record represents a warm-up or a regular set. Whenever this information is known (i.e. for the good data), it is contained in the `'label'` column (and implicitly in `'exc_id'`), which also contains the information about the type of exercise (i.e. bench press, deadlift, overhead press, or squat). As is, the information is not presented in the most useful way. The same can be said about the columns `'set_id'` and `'date'`. In fact, the concrete values in these columns do not seem particularly relevant, but they do contain more obviously relevant information: the sets can be grouped by `'date'` and the exercise type as extracted from `'label'` and then counted in order of increasing `'set_id'`. I will thus introduce the following extra columns to represent the relevant information more directly:\n",
    "\n",
    "* `'type'`: The **exercise type** (i.e. bench press, deadlift, overhead press, or squat)\n",
    "* `'BP'`, `'DL'`, `'OP'`, `'SQ'`: Binary dummy labels for the categorical values in `'type'`\n",
    "* `'warm_up'`: The **exercise category** (1: warm-up, 0: regular, `<NA>`: unknown)\n",
    "* `'grp'`: A count of **groups** of sets grouped by workout date and exercise type.\n",
    "* `'set_count'`: The **set number** of each set within its group. \n"
   ]
  },
  {
   "cell_type": "code",
   "execution_count": 89,
   "id": "10d2478e",
   "metadata": {},
   "outputs": [],
   "source": [
    "def process_labels_etc(data_in):\n",
    "    # copy data\n",
    "    data_out = data_in.copy()\n",
    "    # add column for exercise type\n",
    "    EXC_TYPES = {\"F\":\"Bench Press\", \"D\":\"Deadlift\", \"O\":\"Overhead Press\", \"L\":\"Squat\"}\n",
    "    data_out['type'] = data_out['label'].str[0].map(EXC_TYPES)\n",
    "    # add dummy columns for exercise types\n",
    "    data_out['BP'] = data_out['label'].str.contains('Bench').astype('Int8')\n",
    "    data_out['DL'] = data_out['label'].str.contains('Deadlift').astype('Int8')\n",
    "    data_out['OP'] = data_out['label'].str.contains('Overhead').astype('Int8')\n",
    "    data_out['SQ'] = data_out['label'].str.contains('Squat').astype('Int8')\n",
    "    # add dummy column for warm-up sets (1: warm-up, 0: regular, <NA>: unknown)\n",
    "    split_mask = data_out['date'] >= SPLIT_DATE\n",
    "    warm_up_labels = data_out.loc[split_mask, 'label'].str.contains('Warm Up')\n",
    "    data_out.loc[split_mask, 'warm_up'] = warm_up_labels\n",
    "    data_out['warm_up'] = data_out['warm_up'].astype('Int8')\n",
    "    # group the sets by date and exercise type and count the gorups\n",
    "    data_out['grp'] = data_out.groupby(['date', 'type']).ngroup() + 1\n",
    "    # also count within each group\n",
    "    data_out['set_count'] = data_out.groupby(['date', 'type']).cumcount() + 1\n",
    "    return data_out"
   ]
  },
  {
   "cell_type": "markdown",
   "id": "12e9ad40",
   "metadata": {},
   "source": [
    "The main task is then to infer the values in `warm_up` from the other columns, excluding `exc_id` and `label`, because the latter are not reliable for the `problem sets`. In fact, the equivalent information in `label` and `exc_id` literally *is* the problem for the problem sets. \n",
    "\n",
    "Speaking of problems, the numerical column `'weight'` is also a little flawed, since the values for different exercise types lie in rather different ranges:"
   ]
  },
  {
   "cell_type": "code",
   "execution_count": 90,
   "id": "4a90b586",
   "metadata": {},
   "outputs": [
    {
     "name": "stdout",
     "output_type": "stream",
     "text": [
      "Average weight by exercise type:\n",
      "type\n",
      "Bench Press       45.126016\n",
      "Deadlift          90.507648\n",
      "Overhead Press    32.532346\n",
      "Squat             59.207232\n",
      "Name: weight, dtype: float64\n"
     ]
    }
   ],
   "source": [
    "raw_data = load_data()\n",
    "prepared_data = process_labels_etc(raw_data)\n",
    "\n",
    "print(\"Average weight by exercise type:\")\n",
    "print(prepared_data.groupby('type')['weight'].mean())"
   ]
  },
  {
   "cell_type": "markdown",
   "id": "e05ecefe",
   "metadata": {},
   "source": [
    "This can be remedied by suitably normalizing the weight. I find it most reasonable to normalize the weight on a per-group basis and I will do the same for the `'reps'` column to put the parameter on a comparable scale. While doing so, I will also compute the **set volume** (i.e. weight times reps) and a per-group normalized version thereof."
   ]
  },
  {
   "cell_type": "code",
   "execution_count": 91,
   "id": "2067ae4c",
   "metadata": {},
   "outputs": [],
   "source": [
    "def add_normalized_features(data_in):\n",
    "    # copy original dataframe to avoid unwanted changes\n",
    "    data_out = data_in.copy()\n",
    "    # add the set volume (weight * reps) as a column\n",
    "    data_out['set_vol'] = data_out['weight'] * data_out['reps']\n",
    "    # add per-group normalized weight, reps, and set volume columns\n",
    "    max_weight = data_out.groupby('grp')['weight'].transform('max')\n",
    "    max_reps = data_out.groupby('grp')['reps'].transform('max')\n",
    "    max_set_vol = data_out.groupby('grp')['set_vol'].transform('max')\n",
    "    data_out['norm_weight'] = data_out['weight'] / max_weight\n",
    "    data_out['norm_reps'] = data_out['reps'] / max_reps\n",
    "    data_out['norm_set_vol'] = data_out['set_vol'] / max_set_vol\n",
    "    return data_out"
   ]
  },
  {
   "cell_type": "markdown",
   "id": "9803b48b",
   "metadata": {},
   "source": [
    "Together, the functions `process_labels_etc` and `add_normalized_features` make up the `prepare_data` function mentioned in the introduction."
   ]
  },
  {
   "cell_type": "code",
   "execution_count": 92,
   "id": "09d5044e",
   "metadata": {},
   "outputs": [],
   "source": [
    "def prepare_data(data_in):\n",
    "    data_out = process_labels_etc(data_in)\n",
    "    data_out = add_normalized_features(data_out)\n",
    "    return data_out"
   ]
  },
  {
   "cell_type": "markdown",
   "id": "695bd716",
   "metadata": {},
   "source": [
    "The following plots show the weight (blue) and reps (orange) for randomly chosen examples of set groups, both normalized on a per-group level. The main observation is that, while the per-exercise-routine within the problem data is not as consistent as within the good data, the differences are not too alarming. Chances are that a properly trained prediction model trained on the good data will also perform reasonably well on the problem data."
   ]
  },
  {
   "cell_type": "code",
   "execution_count": 93,
   "id": "45ee568e",
   "metadata": {},
   "outputs": [
    {
     "data": {
      "image/png": "[encoded data removed]",
      "text/plain": [
       "<Figure size 1200x800 with 16 Axes>"
      ]
     },
     "metadata": {},
     "output_type": "display_data"
    },
    {
     "data": {
      "image/png": "[encoded data removed]",
      "text/plain": [
       "<Figure size 1200x800 with 16 Axes>"
      ]
     },
     "metadata": {},
     "output_type": "display_data"
    }
   ],
   "source": [
    "import random\n",
    "\n",
    "# load, prepare, and split all sets\n",
    "raw_data = load_data()\n",
    "prepared_data = prepare_data(raw_data)\n",
    "good_data, problems = good_problem_split(prepared_data)\n",
    "split_data = {\n",
    "    \"Problem Sets\": problems,\n",
    "    \"Properly Labeled Sets\": good_data\n",
    "}\n",
    "\n",
    "# get samples\n",
    "EXC_TYPES = prepared_data['type'].unique()\n",
    "M = len(EXC_TYPES)\n",
    "N = 4\n",
    "group_samples = {}\n",
    "for category in split_data:\n",
    "    data = split_data[category]\n",
    "    data_samples = []\n",
    "    for exc_type in EXC_TYPES:\n",
    "        exc_type_samples = []\n",
    "        df = data[data['type'] == exc_type]\n",
    "        sample_groups = df['grp'].sample(n=N, random_state=42)\n",
    "        sample_groups.sort_values(inplace=True)\n",
    "        for grp in sample_groups:\n",
    "            grp_df = df[df['grp']==grp]\n",
    "            exc_type_samples.append(grp_df)\n",
    "        data_samples.append(exc_type_samples)\n",
    "    group_samples[category] = data_samples\n",
    "# plot weight and reps for the samples\n",
    "W, H = 3, 2\n",
    "for category in group_samples:\n",
    "    fig, axes = plt.subplots(N, M, figsize=(M*W, N*H))\n",
    "    fig.suptitle(f\"Some Groups of {category}\")\n",
    "    for m in range(M):\n",
    "        for n in range(N):\n",
    "            df = group_samples[category][m][n].copy()\n",
    "            df.set_index('set_count', inplace=True)\n",
    "            date = df['date'].iloc[0]\n",
    "            exc_type = df['type'].iloc[0]\n",
    "            df = df[['norm_weight', 'norm_reps']]\n",
    "            axes[n, m] = df.plot.bar(\n",
    "                title=f\"{exc_type}, {date}\",\n",
    "                ax=axes[n, m],  \n",
    "                legend=False\n",
    "            )\n",
    "    plt.tight_layout()\n",
    "    plt.show()\n",
    "\n"
   ]
  },
  {
   "cell_type": "markdown",
   "id": "f6706bdb",
   "metadata": {},
   "source": [
    "Lastly, here are the correlations of the numerical feature columns with the `'warm_up'`:"
   ]
  },
  {
   "cell_type": "code",
   "execution_count": 94,
   "id": "51ac93e1",
   "metadata": {},
   "outputs": [
    {
     "name": "stdout",
     "output_type": "stream",
     "text": [
      "Correllation of numerical columns with 'warm_up':\n",
      "warm_up         1.000000\n",
      "set_count       0.782057\n",
      "exc_id          0.736627\n",
      "norm_set_vol    0.722205\n",
      "norm_weight     0.610597\n",
      "set_vol         0.535162\n",
      "norm_reps       0.339426\n",
      "reps            0.335302\n",
      "weight          0.281679\n",
      "grp             0.022953\n",
      "BP              0.021510\n",
      "set_id          0.020281\n",
      "SQ              0.013093\n",
      "OP              0.008936\n",
      "DL              0.000292\n",
      "Name: warm_up, dtype: float64\n"
     ]
    }
   ],
   "source": [
    "# reload, prepare, and split the data\n",
    "raw_data = load_data()\n",
    "prepared_data = prepare_data(raw_data)\n",
    "good_data, problems = good_problem_split(prepared_data)\n",
    "\n",
    "# extract the numerical column\n",
    "numerical_data = good_data.select_dtypes(include=['number'])\n",
    "\n",
    "# Compute absolute corellations\n",
    "corellations = numerical_data.corr().abs()\n",
    "# Restrict to `is_warm_up` colum and sort by descreasing corellation\n",
    "corellations = corellations['warm_up'].sort_values(ascending=False)\n",
    "\n",
    "# Print the results\n",
    "print(\"Correllation of numerical columns with 'warm_up':\")\n",
    "print(corellations)"
   ]
  },
  {
   "cell_type": "markdown",
   "id": "b008b769",
   "metadata": {},
   "source": [
    "Among other things, this shows that the original columns are not very strongly correlated to `warm_up`. Some of the new columns, especially `'set_count'` and `'norm_set_vol'` look much more promising. \n",
    "\n",
    "It remains to explain what the new column are:\n",
    "\n",
    "* `'set_vol'`: The **set volume**, that is, the set weight times the number of repetitions.\n",
    "* `'norm_weight'`: The **normalized weight** computed per group.\n",
    "* `'norm_vol'`: The **normalized set volume** computed per group.\n",
    "\n",
    "The high correlation of the set number is not surprising, because the warm-up sets should appear in the beginning of the respective groups - at least if the sets were tracked in order (which is mostly true, but not always). The higher correlation of the set volume then its factors weight and reps also makes sense, given the knowledge how I've mostly structured my workouts. The better performance of the normalized columns can be explained by the different weight ranges mentioned above."
   ]
  },
  {
   "cell_type": "markdown",
   "id": "eee66046",
   "metadata": {},
   "source": [
    "## Step 3: Model Training and Evaluation"
   ]
  },
  {
   "cell_type": "markdown",
   "id": "6aa005a0",
   "metadata": {},
   "source": [
    "With slightly over 5000 samples, the dataset is small enough to test a variety of models. To reiterate, the task is to predict the correct value of `'warm_up'` from a suitable selection of other columns. This is set up as a binary classification problem, giving a variety of models to choose from. \n",
    "\n",
    "I will first try a few of the classics: \n",
    "    logistic regression,\n",
    "    decision tree,\n",
    "    random forest,\n",
    "    k-nearest neighbor, and\n",
    "    linear SVM.\n",
    "Each of these classifiers will be trained using the same cross validation scheme and evaluated using same metrics. \n",
    "\n",
    "Mostly out of curiosity, I will also train a simple neural network to see how it performs. However, since the simple models already perform extremely well, the deep learning approach will eventually be discarded."
   ]
  },
  {
   "cell_type": "markdown",
   "id": "51104817",
   "metadata": {},
   "source": [
    "To begin with, I'll get the data ready. I'll do a split into training, test, and validation data."
   ]
  },
  {
   "cell_type": "code",
   "execution_count": 95,
   "id": "3cbe6e9b",
   "metadata": {},
   "outputs": [],
   "source": [
    "# load and prepare data, split off good data\n",
    "raw_data = load_data()\n",
    "prepared_data = prepare_data(raw_data)\n",
    "good_data, _ = good_problem_split(prepared_data)\n",
    "\n",
    "# select features for treaining\n",
    "IGNORE_COLS = ['date', 'label', 'type', 'exc_id', 'set_id', 'grp', 'warm_up']\n",
    "X_good = good_data.drop(IGNORE_COLS, axis=1)\n",
    "y_good = good_data['warm_up']\n",
    "\n",
    "# split into train/test/validation sets\n",
    "X_train_test, X_val, y_train_test, y_val = \\\n",
    "    train_test_split(X_good, y_good, test_size=0.1, stratify=y_good, random_state=42)\n",
    "X_train, X_test, y_train, y_test = \\\n",
    "    train_test_split(X_train_test, y_train_test, test_size=0.2, stratify=y_train_test, random_state=42)\n"
   ]
  },
  {
   "cell_type": "markdown",
   "id": "7bd0ebfb",
   "metadata": {},
   "source": [
    "### Classical Binary Classifiers"
   ]
  },
  {
   "cell_type": "markdown",
   "id": "0555a174",
   "metadata": {},
   "source": [
    "As mentioned, I want to try out and compare several classical models. For that purpose, I will load them into a dictionary."
   ]
  },
  {
   "cell_type": "code",
   "execution_count": 96,
   "id": "c96c9278",
   "metadata": {},
   "outputs": [],
   "source": [
    "# Define models\n",
    "models = {\n",
    "    \"Logistic Regression\": LogisticRegression(max_iter=1000, solver=\"lbfgs\"),\n",
    "    \"Decision Tree\": DecisionTreeClassifier(max_depth=5, random_state=42),\n",
    "    \"Random Forest\": RandomForestClassifier(n_estimators=100, random_state=42),\n",
    "    \"KNN\": KNeighborsClassifier(n_neighbors=5),\n",
    "    \"SVM (Linear)\": LinearSVC(max_iter=5000, dual=False),\n",
    "    \"Naive Bayes\": GaussianNB(),\n",
    "}"
   ]
  },
  {
   "cell_type": "markdown",
   "id": "8a354dec",
   "metadata": {},
   "source": [
    "For model selection I will first use a 5-fold cross-validation strategy on the training data."
   ]
  },
  {
   "cell_type": "code",
   "execution_count": 97,
   "id": "3cfe68f5",
   "metadata": {},
   "outputs": [
    {
     "name": "stdout",
     "output_type": "stream",
     "text": [
      "CROSS-VALIDATION RESULTS:\n",
      "Logistic Regression  | Accuracy: 0.987 ± 0.004\n",
      "Decision Tree        | Accuracy: 0.985 ± 0.004\n",
      "Random Forest        | Accuracy: 0.992 ± 0.005\n",
      "KNN                  | Accuracy: 0.972 ± 0.003\n",
      "SVM (Linear)         | Accuracy: 0.988 ± 0.006\n",
      "Naive Bayes          | Accuracy: 0.980 ± 0.004\n"
     ]
    }
   ],
   "source": [
    "def evaluate_with_cv(models:dict)->None:\n",
    "    # Cross-validation strategy\n",
    "    cv = StratifiedKFold(n_splits=5, shuffle=True, random_state=42)\n",
    "    # Evaluate all models\n",
    "    results = {}\n",
    "    print(\"Cross-validation results:\".upper())\n",
    "    for name, model in models.items():\n",
    "        scores = cross_val_score(model, X_train_test, y_train_test, cv=cv, scoring=\"accuracy\")\n",
    "        results[name] = (np.mean(scores), np.std(scores))\n",
    "        print(f\"{name:20s} | Accuracy: {np.mean(scores):.3f} ± {np.std(scores):.3f}\")\n",
    "\n",
    "evaluate_with_cv(models)"
   ]
  },
  {
   "cell_type": "markdown",
   "id": "176d2921",
   "metadata": {},
   "source": [
    "All models perform rather well, with the random forest classifier in the lead. \n",
    "\n",
    "Next I will check the performance on the test data and plot the confusion matrix in each case."
   ]
  },
  {
   "cell_type": "code",
   "execution_count": 98,
   "id": "d7950a37",
   "metadata": {},
   "outputs": [
    {
     "data": {
      "image/png": "[encoded data removed]",
      "text/plain": [
       "<Figure size 900x600 with 12 Axes>"
      ]
     },
     "metadata": {},
     "output_type": "display_data"
    }
   ],
   "source": [
    "def plot_confusion(models):\n",
    "    # create a 2-by-3 grid for the six models\n",
    "    fig, axes = plt.subplots(2,3,figsize=(9,6), constrained_layout=True)\n",
    "    axes = axes.flatten()\n",
    "    # pupolate the axes\n",
    "    ax_idx=0\n",
    "    for name, model in models.items():\n",
    "        # train the model on full training set\n",
    "        model.fit(X_train, y_train)\n",
    "        # evaluate on test set\n",
    "        y_pred = model.predict(X_test)\n",
    "        # compute accuracy score and confusion matrix\n",
    "        accuracy = model.score(X_test, y_test)\n",
    "        conf_mat = confusion_matrix(y_test, y_pred)\n",
    "        conf_mat_disp = ConfusionMatrixDisplay(conf_mat)\n",
    "        # add the results to current subplot\n",
    "        axes[ax_idx].set_title(f\"{name}\\n(Accuracy: {accuracy:.3f})\")\n",
    "        conf_mat_disp.plot(ax=axes[ax_idx])\n",
    "        ax_idx += 1\n",
    "    plt.show()\n",
    "\n",
    "plot_confusion(models)"
   ]
  },
  {
   "cell_type": "markdown",
   "id": "f3327da0",
   "metadata": {},
   "source": [
    "Again, the random forest model performs best with an exceptionally low number of false negatives. "
   ]
  },
  {
   "cell_type": "code",
   "execution_count": 99,
   "id": "48c62b16",
   "metadata": {},
   "outputs": [
    {
     "data": {
      "image/png": "[encoded data removed]",
      "text/plain": [
       "<Figure size 640x480 with 2 Axes>"
      ]
     },
     "metadata": {},
     "output_type": "display_data"
    }
   ],
   "source": [
    "# select the winning model\n",
    "best_model = models[\"Random Forest\"]\n",
    "\n",
    "def validate_trained_model(model):\n",
    "    # evaluate on validation set\n",
    "    y_pred = model.predict(X_val)\n",
    "    # compute accuracy score and confusion matrix\n",
    "    accuracy = model.score(X_val, y_val)\n",
    "    conf_mat = confusion_matrix(y_val, y_pred)\n",
    "    fig, ax = plt.subplots()\n",
    "    conf_mat_disp = ConfusionMatrixDisplay(conf_mat)\n",
    "    conf_mat_disp.plot(ax=ax)\n",
    "    # plt.show()\n",
    "    ax.set_title(f\"Results on Validation Set\\n{model}\\n(Accuracy: {accuracy:.3f})\")\n",
    "\n",
    "validate_trained_model(best_model)\n"
   ]
  },
  {
   "cell_type": "code",
   "execution_count": 100,
   "id": "06abfa1a",
   "metadata": {},
   "outputs": [
    {
     "name": "stdout",
     "output_type": "stream",
     "text": [
      "NUMBER OF GROUPS WITH ERRORS: 9\n",
      "\n",
      "GROUPS WITH ERRORS:\n",
      "\n",
      "      set_count        date      type  weight  reps  warm_up  pred\n",
      "1169          1  2020-06-08  Deadlift    60.0     5        1     1\n",
      "1170          2  2020-06-08  Deadlift    70.0     5        1     0\n",
      "1171          3  2020-06-08  Deadlift    80.0     5        0     0\n",
      "1172          4  2020-06-08  Deadlift    90.0     5        0     0\n",
      "1173          5  2020-06-08  Deadlift    90.0     5        0     0\n",
      "      set_count        date            type  weight  reps  warm_up  pred\n",
      "1374          1  2020-08-04  Overhead Press    20.0     5        1     1\n",
      "1375          2  2020-08-04  Overhead Press    35.0     2        1     1\n",
      "1376          3  2020-08-04  Overhead Press    40.0     1        0     1\n",
      "1383          4  2020-08-04  Overhead Press    38.0     1        1     1\n",
      "1384          5  2020-08-04  Overhead Press    42.0     1        0     1\n",
      "1385          6  2020-08-04  Overhead Press    45.0     1        0     0\n",
      "1386          7  2020-08-04  Overhead Press    35.0     6        0     0\n",
      "      set_count        date   type  weight  reps  warm_up  pred\n",
      "1377          1  2020-08-04  Squat    20.0     5        1     1\n",
      "1378          2  2020-08-04  Squat    50.0     3        1     1\n",
      "1379          3  2020-08-04  Squat    70.0     2        0     1\n",
      "1380          4  2020-08-04  Squat    71.0     1        0     1\n",
      "1381          5  2020-08-04  Squat    72.0     1        0     0\n",
      "1382          6  2020-08-04  Squat    73.0     1        0     0\n",
      "1387          7  2020-08-04  Squat    70.0     1        1     1\n",
      "1388          8  2020-08-04  Squat    74.0     1        0     0\n",
      "1389          9  2020-08-04  Squat    75.0     1        0     0\n",
      "1390         10  2020-08-04  Squat    65.0     7        0     0\n",
      "      set_count        date         type  weight  reps  warm_up  pred\n",
      "1391          1  2020-08-06  Bench Press    20.0     5        1     1\n",
      "1392          2  2020-08-06  Bench Press    40.0     5        1     1\n",
      "1393          3  2020-08-06  Bench Press    50.0     1        0     1\n",
      "1394          4  2020-08-06  Bench Press    52.0     1        0     0\n",
      "1395          5  2020-08-06  Bench Press    55.0     1        0     0\n",
      "1396          6  2020-08-06  Bench Press    57.0     1        0     0\n",
      "1397          7  2020-08-06  Bench Press    58.0     1        0     0\n",
      "1401          8  2020-08-06  Bench Press    60.0     1        0     0\n",
      "1402          9  2020-08-06  Bench Press    62.0     1        0     0\n",
      "1403         10  2020-08-06  Bench Press    52.0     5        0     0\n",
      "      set_count        date      type  weight  reps  warm_up  pred\n",
      "1398          1  2020-08-06  Deadlift    60.0     5        1     1\n",
      "1399          2  2020-08-06  Deadlift    90.0     2        1     1\n",
      "1400          3  2020-08-06  Deadlift   100.0     1        0     1\n",
      "1404          4  2020-08-06  Deadlift   105.0     1        0     0\n",
      "1405          5  2020-08-06  Deadlift   108.0     1        0     0\n",
      "1406          6  2020-08-06  Deadlift   110.0     1        0     0\n",
      "1407          7  2020-08-06  Deadlift   115.0     1        0     0\n",
      "1408          8  2020-08-06  Deadlift   118.0     1        0     0\n",
      "      set_count        date   type  weight  reps  warm_up  pred\n",
      "1655          1  2020-10-30  Squat    30.0     5        1     1\n",
      "1656          2  2020-10-30  Squat    60.0     3        1     1\n",
      "1657          3  2020-10-30  Squat    71.0     5        0     0\n",
      "1658          4  2020-10-30  Squat    71.0     5        0     0\n",
      "1659          5  2020-10-30  Squat    71.0     6        0     0\n",
      "1660          6  2020-10-30  Squat    60.0    10        0     0\n",
      "1662          7  2020-10-30  Squat    68.0     2        1     0\n",
      "      set_count        date         type  weight  reps  warm_up  pred\n",
      "2176          1  2021-11-16  Bench Press    20.0     7        1     1\n",
      "2177          2  2021-11-16  Bench Press    40.0     3        1     1\n",
      "2178          3  2021-11-16  Bench Press    50.0     3        0     1\n",
      "2179          4  2021-11-16  Bench Press    52.0     3        0     0\n",
      "2180          5  2021-11-16  Bench Press    53.0     3        0     0\n",
      "2181          6  2021-11-16  Bench Press    54.0     3        0     0\n",
      "2182          7  2021-11-16  Bench Press    56.0     3        0     0\n",
      "2183          8  2021-11-16  Bench Press    58.0     1        0     0\n",
      "2184          9  2021-11-16  Bench Press    60.0     1        0     0\n",
      "2185         10  2021-11-16  Bench Press    62.0     1        0     0\n",
      "      set_count        date         type  weight  reps  warm_up  pred\n",
      "4707          1  2025-02-11  Bench Press    20.0     8        1     1\n",
      "4708          2  2025-02-11  Bench Press    40.0     3        1     1\n",
      "4709          3  2025-02-11  Bench Press    50.0     1        1     1\n",
      "4710          4  2025-02-11  Bench Press    53.0     5        0     0\n",
      "4711          5  2025-02-11  Bench Press    53.0     5        0     0\n",
      "4712          6  2025-02-11  Bench Press    53.0     5        0     0\n",
      "4713          7  2025-02-11  Bench Press    50.0     6        0     0\n",
      "4714          8  2025-02-11  Bench Press    50.0     2        0     1\n",
      "      set_count        date            type  weight  reps  warm_up  pred\n",
      "4784          1  2025-03-21  Overhead Press    20.0    10        1     1\n",
      "4785          2  2025-03-21  Overhead Press    30.0     8        1     1\n",
      "4786          3  2025-03-21  Overhead Press    35.0     5        1     1\n",
      "4787          4  2025-03-21  Overhead Press    38.0     2        0     0\n",
      "4788          5  2025-03-21  Overhead Press    42.0     1        0     1\n",
      "4789          6  2025-03-21  Overhead Press    45.0     1        0     0\n",
      "4790          7  2025-03-21  Overhead Press    47.0     1        0     0\n",
      "4791          8  2025-03-21  Overhead Press    30.0    10        0     0\n"
     ]
    }
   ],
   "source": [
    "def get_groups_with_errors(model):\n",
    "    # evaluate on all good data\n",
    "    y_pred = model.predict(X_good)\n",
    "    # add results as column in copy of good data\n",
    "    good_data_plus = good_data.copy()\n",
    "    good_data_plus['pred'] = y_pred.astype('int8')\n",
    "    # get exercise groups in good data\n",
    "    groups = good_data['grp'].unique()\n",
    "    groups_with_errors = []\n",
    "    for grp in groups:\n",
    "        view_cols = ['set_count', 'date', 'type', 'weight', 'reps', 'warm_up', 'pred']\n",
    "        df = good_data_plus[good_data_plus['grp'] == grp][view_cols]\n",
    "        all_pred_correct = (df['warm_up'] == df['pred']).all()\n",
    "        if not all_pred_correct:\n",
    "            groups_with_errors.append(df)\n",
    "    return groups_with_errors\n",
    "\n",
    "groups_with_errors = get_groups_with_errors(best_model)\n",
    "print(\"Number of groups with errors:\".upper(), len(groups_with_errors))\n",
    "print(\"\\nGroups with errors:\\n\".upper())\n",
    "for group in groups_with_errors:\n",
    "    print(group)"
   ]
  },
  {
   "cell_type": "markdown",
   "id": "fc2fe2fb",
   "metadata": {},
   "source": [
    "Altogether, this is rather satisfactory. The errors are limited to nine exercise groups, six of which were \"max out sessions\" where I went for new personal bests for single repetitions. These groups are certainly outliers. "
   ]
  },
  {
   "cell_type": "markdown",
   "id": "d6789403",
   "metadata": {},
   "source": [
    "### A Deep Learning Approach\n",
    "\n"
   ]
  },
  {
   "cell_type": "markdown",
   "id": "c0276b5a",
   "metadata": {},
   "source": [
    "Just out of curiosity, I will try training a neural network. The first task is to convert the data to PyTorch's very own `torch.tensor` data type."
   ]
  },
  {
   "cell_type": "code",
   "execution_count": 101,
   "id": "3948d9bf",
   "metadata": {},
   "outputs": [],
   "source": [
    "# Convert to PyTorch tensors\n",
    "def convert_pandas_to_torch(panda):\n",
    "    by_way_of_numpy = panda.values.astype(np.float64)\n",
    "    tensor = torch.tensor(by_way_of_numpy, dtype=torch.double)\n",
    "    return tensor\n",
    "X_train = convert_pandas_to_torch(X_train)\n",
    "y_train = convert_pandas_to_torch(y_train).unsqueeze(1)\n",
    "X_test = convert_pandas_to_torch(X_test)\n",
    "y_test = convert_pandas_to_torch(y_test).unsqueeze(1)\n",
    "X_val = convert_pandas_to_torch(X_val)\n",
    "y_val = convert_pandas_to_torch(y_val).unsqueeze(1)"
   ]
  },
  {
   "cell_type": "markdown",
   "id": "f477b555",
   "metadata": {},
   "source": [
    "As for the neural network model, I will go for three linear layers with sigmoid activation functions. Since I don't have a ton of training data, I will keep the number of parameters manageable. "
   ]
  },
  {
   "cell_type": "code",
   "execution_count": 102,
   "id": "a5e3595e",
   "metadata": {},
   "outputs": [
    {
     "name": "stdout",
     "output_type": "stream",
     "text": [
      "Number of parameters: 337\n",
      "Neural Network Architecture:\n",
      "SimpleNN(\n",
      "  (net): Sequential(\n",
      "    (0): Linear(in_features=11, out_features=16, bias=True)\n",
      "    (1): Sigmoid()\n",
      "    (2): Linear(in_features=16, out_features=8, bias=True)\n",
      "    (3): Sigmoid()\n",
      "    (4): Linear(in_features=8, out_features=1, bias=True)\n",
      "    (5): Sigmoid()\n",
      "  )\n",
      ")\n"
     ]
    }
   ],
   "source": [
    "# define a simple neural network architecture\n",
    "class SimpleNN(nn.Module):\n",
    "    def __init__(self, input_dim):\n",
    "        super().__init__()\n",
    "        self.net = nn.Sequential(\n",
    "            nn.Linear(input_dim, 16),\n",
    "            nn.Sigmoid(),\n",
    "            nn.Linear(16, 8),\n",
    "            nn.Sigmoid(),\n",
    "            nn.Linear(8, 1),\n",
    "            nn.Sigmoid()\n",
    "        )\n",
    "    def forward(self, x):\n",
    "        return self.net(x)\n",
    "\n",
    "# define model, loss function, and optimizer\n",
    "model_nn = SimpleNN(input_dim=X_train.shape[1]).double()\n",
    "criterion = nn.BCELoss()\n",
    "optimizer = optim.Adam(model_nn.parameters(), lr=0.01)\n",
    "\n",
    "print(\"Number of parameters:\", sum(p.numel() for p in model_nn.parameters()))\n",
    "print(\"Neural Network Architecture:\")\n",
    "print(model_nn)\n"
   ]
  },
  {
   "cell_type": "markdown",
   "id": "ad4dd92f",
   "metadata": {},
   "source": []
  },
  {
   "cell_type": "code",
   "execution_count": 103,
   "id": "9e55685a",
   "metadata": {},
   "outputs": [
    {
     "name": "stdout",
     "output_type": "stream",
     "text": [
      "---=== FIRST PASS ===---\n",
      "Epoch 0, Loss: 0.7396\n",
      "Epoch 1000, Loss: 0.0169\n",
      "Epoch 2000, Loss: 0.0327\n",
      "Epoch 3000, Loss: 0.0265\n",
      "Epoch 4000, Loss: 0.0215\n",
      "Epoch 5000, Loss: 0.0290\n",
      "Epoch 6000, Loss: 0.0259\n",
      "Epoch 7000, Loss: 0.0237\n",
      "Epoch 8000, Loss: 0.0196\n",
      "Epoch 9000, Loss: 0.0176\n",
      "Epoch 10000, Loss: 0.0158\n",
      "Test Accuracy: 98.63%\n"
     ]
    },
    {
     "data": {
      "image/png": "[encoded data removed]",
      "text/plain": [
       "<Figure size 640x480 with 2 Axes>"
      ]
     },
     "metadata": {},
     "output_type": "display_data"
    },
    {
     "name": "stdout",
     "output_type": "stream",
     "text": [
      "---=== SECOND PASS ===---\n",
      "Epoch 0, Loss: 0.0159\n",
      "Epoch 1000, Loss: 0.0146\n",
      "Epoch 2000, Loss: 0.0121\n",
      "Epoch 3000, Loss: 0.2707\n",
      "Epoch 4000, Loss: 0.0256\n",
      "Epoch 5000, Loss: 0.0239\n",
      "Epoch 6000, Loss: 0.0213\n",
      "Epoch 7000, Loss: 0.6787\n",
      "Epoch 8000, Loss: 0.6787\n",
      "Epoch 9000, Loss: 0.6787\n",
      "Epoch 10000, Loss: 0.6787\n",
      "Test Accuracy: 58.55%\n"
     ]
    },
    {
     "data": {
      "image/png": "[encoded data removed]",
      "text/plain": [
       "<Figure size 640x480 with 2 Axes>"
      ]
     },
     "metadata": {},
     "output_type": "display_data"
    }
   ],
   "source": [
    "def train_and_evaluate_nn(model_nn, epochs=10001):\n",
    "    # train the neural network\n",
    "    for epoch in range(epochs):\n",
    "        model_nn.train()\n",
    "        optimizer.zero_grad()\n",
    "        outputs = model_nn(X_train)\n",
    "        loss = criterion(outputs, y_train)\n",
    "        loss.backward()\n",
    "        optimizer.step()\n",
    "        if epoch % 1000 == 0:\n",
    "            print(f\"Epoch {epoch}, Loss: {loss.item():.4f}\")\n",
    "\n",
    "    # evaluate classification results\n",
    "    model_nn.eval()\n",
    "    with torch.no_grad():\n",
    "        preds = model_nn(X_test)\n",
    "        preds_binary = (preds > 0.5).int()\n",
    "        accuracy = (preds_binary.squeeze() == y_test.squeeze().int()).float().mean().item()\n",
    "        print(f\"Test Accuracy: {accuracy:.2%}\")\n",
    "        conf_mat = confusion_matrix(preds_binary, y_test)\n",
    "        conf_mat_disp = ConfusionMatrixDisplay(conf_mat)\n",
    "        conf_mat_disp.plot()\n",
    "        plt.show()\n",
    "\n",
    "# run training and evaluation twice to compare results\n",
    "print(\"---=== FIRST PASS ===---\")\n",
    "train_and_evaluate_nn(model_nn)\n",
    "print(\"---=== SECOND PASS ===---\")\n",
    "train_and_evaluate_nn(model_nn)"
   ]
  },
  {
   "cell_type": "markdown",
   "id": "2ab6e930",
   "metadata": {},
   "source": [
    "The first result is actually quite promising. However, the second attempt clearly shows that things can go wrong when training neural networks. I could go on and investigate what went wrong (most likely a zero-gradient issue), but given the good performance of the much simpler classical models, I will not pursue the matter any further. "
   ]
  },
  {
   "cell_type": "markdown",
   "id": "ce689564",
   "metadata": {},
   "source": [
    "### The Final Implementation\n",
    "\n",
    "Based on the experiments in the previous sections, I will use a random forest classifier to correct the wrond exercise IDs in the \"problem data\"."
   ]
  },
  {
   "cell_type": "code",
   "execution_count": 104,
   "id": "0e770bd4",
   "metadata": {},
   "outputs": [],
   "source": [
    "def predict_warm_ups(prepared_data):\n",
    "    # split data\n",
    "    good_data, _ = good_problem_split(prepared_data)\n",
    "    # extract features X and target y\n",
    "    IGNORE_COLS = ['date', 'label', 'type', 'exc_id', 'set_id', 'grp', 'warm_up']\n",
    "    X_good = good_data.drop(IGNORE_COLS, axis=1)\n",
    "    y_good = good_data['warm_up']\n",
    "    # train random forest model\n",
    "    random_forest = RandomForestClassifier(n_estimators=100, random_state=42)\n",
    "    warm_up_predictor = random_forest.fit(X_good, y_good)\n",
    "    # make predictions and add in column 'pred'\n",
    "    X_all = prepared_data.drop(IGNORE_COLS, axis=1)\n",
    "    y_all_pred = warm_up_predictor.predict(X_all)\n",
    "    # add prediction colun to copy of data and return\n",
    "    data_pred = prepared_data.copy()\n",
    "    data_pred['pred'] = pd.Series(y_all_pred).astype('Int8')\n",
    "    return data_pred"
   ]
  },
  {
   "cell_type": "markdown",
   "id": "6f99c8d5",
   "metadata": {},
   "source": [
    "## Step 4: Fixing the Database"
   ]
  },
  {
   "cell_type": "markdown",
   "id": "993a399a",
   "metadata": {},
   "source": [
    "It remains to update the database file using the predicted exercise IDs for the \"problem sets\" recorded before the `SPLIT_DATE`. This process is straight forward. \n",
    "\n",
    "First, two helper functions are needed:\n",
    "one to obtain IDs of the \"bad sets\", that is, those that need to be changed,\n",
    "and another one to determine the new exercise ID from the old one. "
   ]
  },
  {
   "cell_type": "code",
   "execution_count": 105,
   "id": "5236981a",
   "metadata": {},
   "outputs": [],
   "source": [
    "def get_bad_set_ids(data_pred):\n",
    "    _, problems = good_problem_split(data_pred)\n",
    "    bad_set_ids = problems.query('pred == 1')['set_id']\n",
    "    return bad_set_ids"
   ]
  },
  {
   "cell_type": "code",
   "execution_count": 106,
   "id": "c16844b9",
   "metadata": {},
   "outputs": [],
   "source": [
    "new_exc_id_query = \"\"\"\n",
    "SELECT \n",
    "\tW._id as \"new_id\"\n",
    "FROM\n",
    "\texercise E, \n",
    "\texercise W, \n",
    "\ttraining_log T\n",
    "WHERE \n",
    "\tW.name = E.name || ' (Warm Up)' AND\n",
    "\tE._id = T.exercise_id AND \n",
    "\tT._id = {:s}\n",
    "\"\"\"\n",
    "\n",
    "def get_warm_up_id(set_id:int)->int:\n",
    "    id_df = run_query(new_exc_id_query.format(f\"{set_id}\"))\n",
    "    warm_up_exc_id = id_df['new_id'][0]\n",
    "    return warm_up_exc_id\n"
   ]
  },
  {
   "cell_type": "markdown",
   "id": "03d18782",
   "metadata": {},
   "source": [
    "With the bad set IDs and their corresponding new exercise IDs available, the database can be updated. To avoid data loss, I will implement an option that by default creates a new file with the updated IDs, leaving the original file untouched. "
   ]
  },
  {
   "cell_type": "code",
   "execution_count": 107,
   "id": "d14c8e89",
   "metadata": {},
   "outputs": [],
   "source": [
    "def update_db_file(db_file, bad_ids, inplace=False):\n",
    "    # create copy for update unless 'inplace' options\n",
    "    if not inplace:\n",
    "        original_db_file = db_file\n",
    "        timestamp = datetime.now().strftime('%Y%m%d-%H%M%S')\n",
    "        db_file = original_db_file.replace(\n",
    "            '.fitnotes', \n",
    "            f'__exc_ids_fixed_{timestamp}.fitnotes'\n",
    "        )\n",
    "        shutil.copyfile(original_db_file, db_file)\n",
    "    # update the db entries\n",
    "    update_query_template = \"\"\"\n",
    "    UPDATE training_log\n",
    "    SET exercise_id = {exc_id:s}\n",
    "    WHERE _id = {set_id};\n",
    "    \"\"\"\n",
    "    with sqlite3.connect(db_file) as conn:\n",
    "        cur = conn.cursor()\n",
    "        for set_id in bad_ids:\n",
    "            new_exc_id = get_warm_up_id(set_id)\n",
    "            update_query = update_query_template.format(\n",
    "                set_id=str(set_id),\n",
    "                exc_id=str(new_exc_id),\n",
    "            )\n",
    "            cur.execute(update_query)\n",
    "        conn.commit()"
   ]
  },
  {
   "cell_type": "markdown",
   "id": "e4612e1f",
   "metadata": {},
   "source": [
    "Now everything needed for the main function `fix_db_file` is ready for assembly."
   ]
  },
  {
   "cell_type": "code",
   "execution_count": 113,
   "id": "94fe0b2b",
   "metadata": {},
   "outputs": [],
   "source": [
    "def fix_db_file(db_file=FITNOTES_BACKUP, inplace=False):\n",
    "    # data gathering\n",
    "    data = load_data(db_file)\n",
    "    # prepare data\n",
    "    prepared_data = prepare_data(data)\n",
    "    # make prediction\n",
    "    predicted_data = predict_warm_ups(prepared_data)\n",
    "    bad_set_ids = get_bad_set_ids(predicted_data)\n",
    "    # update database file\n",
    "    update_db_file(db_file, bad_set_ids, inplace=inplace)\n",
    "    return predicted_data\n",
    "\n",
    "final_data = fix_db_file()\n"
   ]
  },
  {
   "cell_type": "markdown",
   "id": "5303688c",
   "metadata": {},
   "source": [
    "Finally, here's how the model performed on the last 25 \"problem sets\". All in all, rather satisfactory."
   ]
  },
  {
   "cell_type": "code",
   "execution_count": 116,
   "id": "eaba247a",
   "metadata": {},
   "outputs": [
    {
     "data": {
      "text/html": [
       "<div>\n",
       "<style scoped>\n",
       "    .dataframe tbody tr th:only-of-type {\n",
       "        vertical-align: middle;\n",
       "    }\n",
       "\n",
       "    .dataframe tbody tr th {\n",
       "        vertical-align: top;\n",
       "    }\n",
       "\n",
       "    .dataframe thead th {\n",
       "        text-align: right;\n",
       "    }\n",
       "</style>\n",
       "<table border=\"1\" class=\"dataframe\">\n",
       "  <thead>\n",
       "    <tr style=\"text-align: right;\">\n",
       "      <th></th>\n",
       "      <th>date</th>\n",
       "      <th>type</th>\n",
       "      <th>set_count</th>\n",
       "      <th>weight</th>\n",
       "      <th>reps</th>\n",
       "      <th>pred</th>\n",
       "    </tr>\n",
       "  </thead>\n",
       "  <tbody>\n",
       "    <tr>\n",
       "      <th>1009</th>\n",
       "      <td>2020-01-31</td>\n",
       "      <td>Deadlift</td>\n",
       "      <td>7</td>\n",
       "      <td>105.0</td>\n",
       "      <td>5</td>\n",
       "      <td>0</td>\n",
       "    </tr>\n",
       "    <tr>\n",
       "      <th>1010</th>\n",
       "      <td>2020-01-31</td>\n",
       "      <td>Deadlift</td>\n",
       "      <td>8</td>\n",
       "      <td>90.0</td>\n",
       "      <td>10</td>\n",
       "      <td>0</td>\n",
       "    </tr>\n",
       "    <tr>\n",
       "      <th>1011</th>\n",
       "      <td>2020-01-31</td>\n",
       "      <td>Bench Press</td>\n",
       "      <td>4</td>\n",
       "      <td>52.0</td>\n",
       "      <td>3</td>\n",
       "      <td>0</td>\n",
       "    </tr>\n",
       "    <tr>\n",
       "      <th>1012</th>\n",
       "      <td>2020-02-02</td>\n",
       "      <td>Bench Press</td>\n",
       "      <td>1</td>\n",
       "      <td>20.0</td>\n",
       "      <td>5</td>\n",
       "      <td>1</td>\n",
       "    </tr>\n",
       "    <tr>\n",
       "      <th>1013</th>\n",
       "      <td>2020-02-02</td>\n",
       "      <td>Bench Press</td>\n",
       "      <td>2</td>\n",
       "      <td>40.0</td>\n",
       "      <td>3</td>\n",
       "      <td>1</td>\n",
       "    </tr>\n",
       "    <tr>\n",
       "      <th>1014</th>\n",
       "      <td>2020-02-02</td>\n",
       "      <td>Bench Press</td>\n",
       "      <td>3</td>\n",
       "      <td>50.0</td>\n",
       "      <td>2</td>\n",
       "      <td>1</td>\n",
       "    </tr>\n",
       "    <tr>\n",
       "      <th>1015</th>\n",
       "      <td>2020-02-02</td>\n",
       "      <td>Bench Press</td>\n",
       "      <td>4</td>\n",
       "      <td>50.0</td>\n",
       "      <td>6</td>\n",
       "      <td>0</td>\n",
       "    </tr>\n",
       "    <tr>\n",
       "      <th>1016</th>\n",
       "      <td>2020-02-02</td>\n",
       "      <td>Bench Press</td>\n",
       "      <td>5</td>\n",
       "      <td>50.0</td>\n",
       "      <td>3</td>\n",
       "      <td>0</td>\n",
       "    </tr>\n",
       "    <tr>\n",
       "      <th>1017</th>\n",
       "      <td>2020-02-02</td>\n",
       "      <td>Bench Press</td>\n",
       "      <td>6</td>\n",
       "      <td>47.0</td>\n",
       "      <td>5</td>\n",
       "      <td>0</td>\n",
       "    </tr>\n",
       "    <tr>\n",
       "      <th>1018</th>\n",
       "      <td>2020-02-02</td>\n",
       "      <td>Bench Press</td>\n",
       "      <td>7</td>\n",
       "      <td>47.0</td>\n",
       "      <td>5</td>\n",
       "      <td>0</td>\n",
       "    </tr>\n",
       "    <tr>\n",
       "      <th>1019</th>\n",
       "      <td>2020-02-02</td>\n",
       "      <td>Bench Press</td>\n",
       "      <td>8</td>\n",
       "      <td>42.0</td>\n",
       "      <td>8</td>\n",
       "      <td>0</td>\n",
       "    </tr>\n",
       "    <tr>\n",
       "      <th>1020</th>\n",
       "      <td>2020-02-04</td>\n",
       "      <td>Overhead Press</td>\n",
       "      <td>1</td>\n",
       "      <td>20.0</td>\n",
       "      <td>5</td>\n",
       "      <td>1</td>\n",
       "    </tr>\n",
       "    <tr>\n",
       "      <th>1021</th>\n",
       "      <td>2020-02-04</td>\n",
       "      <td>Overhead Press</td>\n",
       "      <td>2</td>\n",
       "      <td>30.0</td>\n",
       "      <td>3</td>\n",
       "      <td>1</td>\n",
       "    </tr>\n",
       "    <tr>\n",
       "      <th>1022</th>\n",
       "      <td>2020-02-04</td>\n",
       "      <td>Overhead Press</td>\n",
       "      <td>3</td>\n",
       "      <td>35.0</td>\n",
       "      <td>2</td>\n",
       "      <td>1</td>\n",
       "    </tr>\n",
       "    <tr>\n",
       "      <th>1023</th>\n",
       "      <td>2020-02-04</td>\n",
       "      <td>Overhead Press</td>\n",
       "      <td>4</td>\n",
       "      <td>38.0</td>\n",
       "      <td>5</td>\n",
       "      <td>0</td>\n",
       "    </tr>\n",
       "    <tr>\n",
       "      <th>1024</th>\n",
       "      <td>2020-02-04</td>\n",
       "      <td>Overhead Press</td>\n",
       "      <td>5</td>\n",
       "      <td>38.0</td>\n",
       "      <td>5</td>\n",
       "      <td>0</td>\n",
       "    </tr>\n",
       "    <tr>\n",
       "      <th>1025</th>\n",
       "      <td>2020-02-04</td>\n",
       "      <td>Overhead Press</td>\n",
       "      <td>6</td>\n",
       "      <td>38.0</td>\n",
       "      <td>5</td>\n",
       "      <td>0</td>\n",
       "    </tr>\n",
       "    <tr>\n",
       "      <th>1026</th>\n",
       "      <td>2020-02-04</td>\n",
       "      <td>Overhead Press</td>\n",
       "      <td>7</td>\n",
       "      <td>28.0</td>\n",
       "      <td>8</td>\n",
       "      <td>0</td>\n",
       "    </tr>\n",
       "    <tr>\n",
       "      <th>1027</th>\n",
       "      <td>2020-02-04</td>\n",
       "      <td>Squat</td>\n",
       "      <td>1</td>\n",
       "      <td>28.0</td>\n",
       "      <td>6</td>\n",
       "      <td>1</td>\n",
       "    </tr>\n",
       "    <tr>\n",
       "      <th>1028</th>\n",
       "      <td>2020-02-04</td>\n",
       "      <td>Squat</td>\n",
       "      <td>2</td>\n",
       "      <td>50.0</td>\n",
       "      <td>2</td>\n",
       "      <td>1</td>\n",
       "    </tr>\n",
       "    <tr>\n",
       "      <th>1029</th>\n",
       "      <td>2020-02-04</td>\n",
       "      <td>Squat</td>\n",
       "      <td>3</td>\n",
       "      <td>65.0</td>\n",
       "      <td>1</td>\n",
       "      <td>1</td>\n",
       "    </tr>\n",
       "    <tr>\n",
       "      <th>1030</th>\n",
       "      <td>2020-02-04</td>\n",
       "      <td>Squat</td>\n",
       "      <td>4</td>\n",
       "      <td>65.0</td>\n",
       "      <td>5</td>\n",
       "      <td>0</td>\n",
       "    </tr>\n",
       "    <tr>\n",
       "      <th>1031</th>\n",
       "      <td>2020-02-04</td>\n",
       "      <td>Squat</td>\n",
       "      <td>5</td>\n",
       "      <td>65.0</td>\n",
       "      <td>5</td>\n",
       "      <td>0</td>\n",
       "    </tr>\n",
       "    <tr>\n",
       "      <th>1032</th>\n",
       "      <td>2020-02-04</td>\n",
       "      <td>Squat</td>\n",
       "      <td>6</td>\n",
       "      <td>65.0</td>\n",
       "      <td>6</td>\n",
       "      <td>0</td>\n",
       "    </tr>\n",
       "    <tr>\n",
       "      <th>1033</th>\n",
       "      <td>2020-02-04</td>\n",
       "      <td>Squat</td>\n",
       "      <td>7</td>\n",
       "      <td>55.0</td>\n",
       "      <td>12</td>\n",
       "      <td>0</td>\n",
       "    </tr>\n",
       "  </tbody>\n",
       "</table>\n",
       "</div>"
      ],
      "text/plain": [
       "            date            type  set_count  weight  reps  pred\n",
       "1009  2020-01-31        Deadlift          7   105.0     5     0\n",
       "1010  2020-01-31        Deadlift          8    90.0    10     0\n",
       "1011  2020-01-31     Bench Press          4    52.0     3     0\n",
       "1012  2020-02-02     Bench Press          1    20.0     5     1\n",
       "1013  2020-02-02     Bench Press          2    40.0     3     1\n",
       "1014  2020-02-02     Bench Press          3    50.0     2     1\n",
       "1015  2020-02-02     Bench Press          4    50.0     6     0\n",
       "1016  2020-02-02     Bench Press          5    50.0     3     0\n",
       "1017  2020-02-02     Bench Press          6    47.0     5     0\n",
       "1018  2020-02-02     Bench Press          7    47.0     5     0\n",
       "1019  2020-02-02     Bench Press          8    42.0     8     0\n",
       "1020  2020-02-04  Overhead Press          1    20.0     5     1\n",
       "1021  2020-02-04  Overhead Press          2    30.0     3     1\n",
       "1022  2020-02-04  Overhead Press          3    35.0     2     1\n",
       "1023  2020-02-04  Overhead Press          4    38.0     5     0\n",
       "1024  2020-02-04  Overhead Press          5    38.0     5     0\n",
       "1025  2020-02-04  Overhead Press          6    38.0     5     0\n",
       "1026  2020-02-04  Overhead Press          7    28.0     8     0\n",
       "1027  2020-02-04           Squat          1    28.0     6     1\n",
       "1028  2020-02-04           Squat          2    50.0     2     1\n",
       "1029  2020-02-04           Squat          3    65.0     1     1\n",
       "1030  2020-02-04           Squat          4    65.0     5     0\n",
       "1031  2020-02-04           Squat          5    65.0     5     0\n",
       "1032  2020-02-04           Squat          6    65.0     6     0\n",
       "1033  2020-02-04           Squat          7    55.0    12     0"
      ]
     },
     "execution_count": 116,
     "metadata": {},
     "output_type": "execute_result"
    }
   ],
   "source": [
    "_, problem_data = good_problem_split(final_data)\n",
    "view_cols = ['date','type','set_count','weight','reps','pred']\n",
    "problem_data[view_cols].tail(25)"
   ]
  }
 ],
 "metadata": {
  "kernelspec": {
   "display_name": "Python 3",
   "language": "python",
   "name": "python3"
  },
  "language_info": {
   "codemirror_mode": {
    "name": "ipython",
    "version": 3
   },
   "file_extension": ".py",
   "mimetype": "text/x-python",
   "name": "python",
   "nbconvert_exporter": "python",
   "pygments_lexer": "ipython3",
   "version": "3.13.5"
  }
 },
 "nbformat": 4,
 "nbformat_minor": 5
}
